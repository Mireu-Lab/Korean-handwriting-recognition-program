{
 "cells": [
  {
   "cell_type": "code",
   "execution_count": 1,
   "id": "0d7adf04-1143-4992-9689-adcf68fd5328",
   "metadata": {},
   "outputs": [],
   "source": [
    "import cv2\n",
    "import numpy as np"
   ]
  },
  {
   "cell_type": "code",
   "execution_count": 22,
   "id": "adcbf013-576a-4435-bb81-99df78e160e7",
   "metadata": {},
   "outputs": [],
   "source": [
    "def find_text_contours(image):\n",
    "    \"\"\"\n",
    "    이미지에서 글씨 윤곽선을 찾아 반환합니다.\n",
    "    \n",
    "    Args:\n",
    "        image: 입력 이미지 (BGR 채널)\n",
    "    \n",
    "    Returns:\n",
    "        글씨 윤곽선 리스트\n",
    "    \"\"\"\n",
    "    \n",
    "    gray = cv2.cvtColor(image, cv2.COLOR_BGR2GRAY)\n",
    "    gray = cv2.GaussianBlur(gray, (5, 5), 0)\n",
    "    gray = cv2.bitwise_not(gray) # 객체보다 배경이 밝은 경우 이미지 반전\n",
    "    \n",
    "    \n",
    "    # Canny 에지 검출 알고리즘 적용\n",
    "    edge = cv2.Canny(gray, 100, 100)\n",
    "    _, thresh = cv2.threshold(gray, 127, 255, cv2.THRESH_BINARY)\n",
    "    adaptive_threshold= cv2.adaptiveThreshold(gray, 255, cv2.ADAPTIVE_THRESH_GAUSSIAN_C, cv2.THRESH_BINARY, 11, 2)\n",
    "\n",
    "    thresh = cv2.erode(thresh, None, iterations=2)\n",
    "    thresh = cv2.dilate(thresh, None, iterations=2)\n",
    "    \n",
    "    # 윤곽선 추출\n",
    "    contours, _ = cv2.findContours(thresh, cv2.RETR_EXTERNAL, cv2.CHAIN_APPROX_SIMPLE)\n",
    "    \n",
    "    return contours"
   ]
  },
  {
   "cell_type": "code",
   "execution_count": 15,
   "id": "27267a8d-55ed-4a3f-a839-0acc2e92bc2a",
   "metadata": {},
   "outputs": [],
   "source": [
    "def mark_text_regions(image, contours):\n",
    "    \"\"\"\n",
    "    이미지에 글씨 영역을 사각형으로 표시합니다.\n",
    "    \n",
    "    Args:\n",
    "        image: 입력 이미지 (BGR 채널)\n",
    "        contours: 글씨 윤곽선 리스트\n",
    "    \n",
    "    Returns:\n",
    "        글씨 영역이 표시된 이미지\n",
    "    \"\"\"\n",
    "    \n",
    "    # 박스를 표기하고 거리를 계산합니다.\n",
    "    for contour in contours:\n",
    "        # 최소 외곽 사각형 계산\n",
    "        x, y, w, h = cv2.boundingRect(contour)\n",
    "        \n",
    "        # 사각형 표시\n",
    "        cv2.rectangle(image, (x, y), (x+w, y+h), (22, 255, 22), 2)\n",
    "        \n",
    "    return image"
   ]
  },
  {
   "cell_type": "code",
   "execution_count": 16,
   "id": "7efbc9f4-1e02-46d1-910b-aa8206021267",
   "metadata": {},
   "outputs": [],
   "source": [
    "# def is_close_boxes(box1, box2, min_distance):\n",
    "#     \"\"\"\n",
    "#     두 박스의 거리가 좁은지 확인합니다.\n",
    "    \n",
    "#     Args:\n",
    "#         box1: 첫 번째 박스\n",
    "#         box2: 두 번째 박스\n",
    "#         min_distance: 최소 거리\n",
    "    \n",
    "#     Returns:\n",
    "#         True if 두 박스의 거리가 좁으면, False otherwise\n",
    "#     \"\"\"\n",
    "\n",
    "#     b1_x, b1_y, b1_w, b1_h = box1\n",
    "    \n",
    "#     box1_center_x = (b1_x + b1_w) / 2\n",
    "#     box1_center_y = (b1_y + b1_h) / 2\n",
    "\n",
    "    \n",
    "#     b2_x, b2_y, b2_w, b2_h = box2\n",
    "\n",
    "#     box2_center_x = (b2_x + b2_w) / 2\n",
    "#     box2_center_y = (b2_y + b2_h) / 2\n",
    "    \n",
    "#     # 두 박스의 중심점 간의 거리를 계산합니다.\n",
    "#     distance = np.sqrt(\n",
    "#         ((box1_center_x - box1_center_y)**2) +\n",
    "#         ((box2_center_x - box2_center_y)**2)\n",
    "#     )\n",
    "\n",
    "#     return distance <= min_distance"
   ]
  },
  {
   "cell_type": "code",
   "execution_count": 17,
   "id": "7725691e-f878-40b5-80ad-23df82eff4ba",
   "metadata": {},
   "outputs": [],
   "source": [
    "# def merge_boxes(box1, box2):\n",
    "#     \"\"\"\n",
    "#     두 박스를 하나의 박스로 합칩니다.\n",
    "    \n",
    "#     Args:\n",
    "#         box1: 첫 번째 박스\n",
    "#         box2: 두 번째 박스\n",
    "    \n",
    "#     Returns:\n",
    "#         합쳐진 박스\n",
    "#     \"\"\"\n",
    "    \n",
    "#     b1_x, b1_y, b1_w, b1_h = box1\n",
    "#     b2_x, b2_y, b2_w, b2_h = box2\n",
    "    \n",
    "#     return (\n",
    "#         min(b1_x, b2_x), # X\n",
    "#         min(b1_y, b2_y), # Y\n",
    "#         max(b1_w, b2_w), # W\n",
    "#         max(b1_h, b2_h), # H\n",
    "#     )"
   ]
  },
  {
   "cell_type": "code",
   "execution_count": 21,
   "id": "65127537-f02f-4605-9478-5a35c5443298",
   "metadata": {},
   "outputs": [
    {
     "ename": "TypeError",
     "evalue": "'int' object is not iterable",
     "output_type": "error",
     "traceback": [
      "\u001b[0;31m---------------------------------------------------------------------------\u001b[0m",
      "\u001b[0;31mTypeError\u001b[0m                                 Traceback (most recent call last)",
      "Cell \u001b[0;32mIn[21], line 14\u001b[0m\n\u001b[1;32m      8\u001b[0m contours \u001b[38;5;241m=\u001b[39m find_text_contours(image)\n\u001b[1;32m     10\u001b[0m \u001b[38;5;66;03m# 가까운 윤곽선 그룹화\u001b[39;00m\n\u001b[1;32m     11\u001b[0m \u001b[38;5;66;03m# grouped_contours = group_nearby_contours(contours, min_distance)\u001b[39;00m\n\u001b[1;32m     12\u001b[0m \n\u001b[1;32m     13\u001b[0m \u001b[38;5;66;03m# 글씨 영역 표시\u001b[39;00m\n\u001b[0;32m---> 14\u001b[0m marked_image \u001b[38;5;241m=\u001b[39m \u001b[43mmark_text_regions\u001b[49m\u001b[43m(\u001b[49m\u001b[43mcontours\u001b[49m\u001b[43m,\u001b[49m\u001b[43m \u001b[49m\u001b[43mmin_distance\u001b[49m\u001b[43m)\u001b[49m\n",
      "Cell \u001b[0;32mIn[15], line 14\u001b[0m, in \u001b[0;36mmark_text_regions\u001b[0;34m(image, contours)\u001b[0m\n\u001b[1;32m      2\u001b[0m \u001b[38;5;250m\u001b[39m\u001b[38;5;124;03m\"\"\"\u001b[39;00m\n\u001b[1;32m      3\u001b[0m \u001b[38;5;124;03m이미지에 글씨 영역을 사각형으로 표시합니다.\u001b[39;00m\n\u001b[1;32m      4\u001b[0m \u001b[38;5;124;03m\u001b[39;00m\n\u001b[0;32m   (...)\u001b[0m\n\u001b[1;32m     10\u001b[0m \u001b[38;5;124;03m    글씨 영역이 표시된 이미지\u001b[39;00m\n\u001b[1;32m     11\u001b[0m \u001b[38;5;124;03m\"\"\"\u001b[39;00m\n\u001b[1;32m     13\u001b[0m \u001b[38;5;66;03m# 박스를 표기하고 거리를 계산합니다.\u001b[39;00m\n\u001b[0;32m---> 14\u001b[0m \u001b[43m\u001b[49m\u001b[38;5;28;43;01mfor\u001b[39;49;00m\u001b[43m \u001b[49m\u001b[43mcontour\u001b[49m\u001b[43m \u001b[49m\u001b[38;5;129;43;01min\u001b[39;49;00m\u001b[43m \u001b[49m\u001b[43mcontours\u001b[49m\u001b[43m:\u001b[49m\n\u001b[1;32m     15\u001b[0m \u001b[43m    \u001b[49m\u001b[38;5;66;43;03m# 최소 외곽 사각형 계산\u001b[39;49;00m\n\u001b[1;32m     16\u001b[0m \u001b[43m    \u001b[49m\u001b[43mx\u001b[49m\u001b[43m,\u001b[49m\u001b[43m \u001b[49m\u001b[43my\u001b[49m\u001b[43m,\u001b[49m\u001b[43m \u001b[49m\u001b[43mw\u001b[49m\u001b[43m,\u001b[49m\u001b[43m \u001b[49m\u001b[43mh\u001b[49m\u001b[43m \u001b[49m\u001b[38;5;241;43m=\u001b[39;49m\u001b[43m \u001b[49m\u001b[43mcv2\u001b[49m\u001b[38;5;241;43m.\u001b[39;49m\u001b[43mboundingRect\u001b[49m\u001b[43m(\u001b[49m\u001b[43mcontour\u001b[49m\u001b[43m)\u001b[49m\n\u001b[1;32m     18\u001b[0m \u001b[43m    \u001b[49m\u001b[38;5;66;43;03m# 사각형 표시\u001b[39;49;00m\n",
      "\u001b[0;31mTypeError\u001b[0m: 'int' object is not iterable"
     ]
    }
   ],
   "source": [
    "# 이미지 불러오기\n",
    "image = cv2.imread(\"../dataset_dir/13.한국어글자체/01.손글씨/01_handwriting_sentence_images/1_sentence/00000002.png\")\n",
    "\n",
    "# 최소 거리 설정\n",
    "# min_distance = 10\n",
    "\n",
    "# 글씨 윤곽선 찾기\n",
    "contours = find_text_contours(image)\n",
    "\n",
    "# 가까운 윤곽선 그룹화\n",
    "# grouped_contours = group_nearby_contours(contours, min_distance)\n",
    "\n",
    "# 글씨 영역 표시\n",
    "marked_image = mark_text_regions(contours, min_distance)"
   ]
  },
  {
   "cell_type": "code",
   "execution_count": null,
   "id": "34cd0a28-6e42-40ed-91da-d3c6f84636c1",
   "metadata": {},
   "outputs": [],
   "source": [
    "from time import time\n",
    "\n",
    "# 결과 이미지 출력\n",
    "cv2.imwrite(f'./image/untitle10-{time()}.jpg', marked_image)"
   ]
  }
 ],
 "metadata": {
  "kernelspec": {
   "display_name": "Python 3 (ipykernel)",
   "language": "python",
   "name": "python3"
  },
  "language_info": {
   "codemirror_mode": {
    "name": "ipython",
    "version": 3
   },
   "file_extension": ".py",
   "mimetype": "text/x-python",
   "name": "python",
   "nbconvert_exporter": "python",
   "pygments_lexer": "ipython3",
   "version": "3.11.0rc1"
  }
 },
 "nbformat": 4,
 "nbformat_minor": 5
}
