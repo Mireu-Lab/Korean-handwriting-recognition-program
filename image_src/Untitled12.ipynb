{
 "cells": [
  {
   "cell_type": "code",
   "execution_count": 33,
   "id": "5361ade9-c391-4d92-97b0-e34036d4ef52",
   "metadata": {},
   "outputs": [],
   "source": [
    "import cv2\n",
    "import numpy as np"
   ]
  },
  {
   "cell_type": "code",
   "execution_count": 34,
   "id": "be176e2f-d7d2-4dcb-bb99-ca560c402a5e",
   "metadata": {},
   "outputs": [],
   "source": [
    "def find_text_contours(image):\n",
    "    \"\"\"\n",
    "    이미지에서 글씨 윤곽선을 찾아 반환합니다.\n",
    "    \n",
    "    Args:\n",
    "        image: 입력 이미지 (BGR 채널)\n",
    "    \n",
    "    Returns:\n",
    "        글씨 윤곽선 리스트\n",
    "    \"\"\"\n",
    "\n",
    "    # 이미지를 그레이스케일로 변환합니다.\n",
    "    gray = cv2.cvtColor(image, cv2.COLOR_BGR2GRAY)\n",
    "    \n",
    "    # 가우시안 블러 적용으로 노이즈 제거\n",
    "    gray = cv2.GaussianBlur(gray, (5, 5), 0)\n",
    "    \n",
    "    # Canny 에지 검출 알고리즘 적용\n",
    "    edges = cv2.Canny(gray, 100, 100)\n",
    "    _, thresh = cv2.threshold(gray, 127, 255, cv2.THRESH_BINARY)\n",
    "    adaptive_threshold= cv2.adaptiveThreshold(gray, 255, cv2.ADAPTIVE_THRESH_GAUSSIAN_C, cv2.THRESH_BINARY, 11, 2)\n",
    "    \n",
    "    thresh = cv2.erode(thresh, None, iterations=2)\n",
    "    thresh = cv2.dilate(thresh, None, iterations=2)\n",
    "    \n",
    "    # 윤곽선 추출\n",
    "    contours, _ = cv2.findContours(edges, cv2.RETR_EXTERNAL, cv2.CHAIN_APPROX_SIMPLE)\n",
    "    \n",
    "    return contours"
   ]
  },
  {
   "cell_type": "code",
   "execution_count": 35,
   "id": "e3f7ccdb-32da-40dc-9f45-975f73c64e54",
   "metadata": {},
   "outputs": [],
   "source": [
    "def group_nearby_contours(contours):\n",
    "    \"\"\"\n",
    "    가까운 윤곽선들을 그룹으로 묶습니다.\n",
    "    \n",
    "    Args:\n",
    "        contours: 글씨 윤곽선 리스트\n",
    "    \n",
    "    Returns:\n",
    "        그룹화된 윤곽선 리스트\n",
    "    \"\"\"\n",
    "    \n",
    "    # 최소 외곽 사각형 계산\n",
    "    bounding_boxes = [cv2.boundingRect(contour) for contour in contours]\n",
    "    \n",
    "    # Hungarian 알고리즘을 이용한 최적의 매칭 찾기\n",
    "    cost_matrix = np.zeros((len(bounding_boxes), len(bounding_boxes)))\n",
    "    for i, bbox1 in enumerate(bounding_boxes):\n",
    "        for j, bbox2 in enumerate(bounding_boxes):\n",
    "            # 두 박스 중심 거리 계산\n",
    "            cost_matrix[i, j] = np.linalg.norm(np.array(bbox1[0:2]) - np.array(bbox2[0:2]))\n",
    "\n",
    "    # 최적의 매칭 결과 얻기\n",
    "    matched_pairs = cv2.minMaxLoc(cost_matrix)[2]\n",
    "    \n",
    "    # 그룹화된 윤곽선 리스트 생성\n",
    "    grouped_contours = []\n",
    "    for i in range(len(matched_pairs)):\n",
    "        if matched_pairs[i] != i:\n",
    "            continue\n",
    "    \n",
    "        group = [contours[i]]\n",
    "        for j in range(len(matched_pairs)):\n",
    "            if matched_pairs[j] == i:\n",
    "                group.append(contours[j])\n",
    "    \n",
    "        grouped_contours.append(group)\n",
    "    \n",
    "    return grouped_contours"
   ]
  },
  {
   "cell_type": "code",
   "execution_count": 36,
   "id": "3990611c-26cc-4026-9242-c333ea3c2f18",
   "metadata": {},
   "outputs": [],
   "source": [
    "def mark_text_regions(image, grouped_contours):\n",
    "    \"\"\"\n",
    "    이미지에 글씨 영역을 사각형으로 표시합니다.\n",
    "    \n",
    "    Args:\n",
    "        image: 입력 이미지 (BGR 채널)\n",
    "        grouped_contours: 그룹화된 윤곽선 리스트\n",
    "    \n",
    "    Returns:\n",
    "        글씨 영역이 표시된 이미지\n",
    "    \"\"\"\n",
    "    \n",
    "    for group in grouped_contours:\n",
    "        # 전체 그룹의 최소 외곽 사각형 계산\n",
    "        x, y, w, h = cv2.boundingRect(np.vstack(group))\n",
    "        \n",
    "        # 사각형 표시\n",
    "        cv2.rectangle(image, (x, y), (x+w, y+h), (0, 255, 0), 2)\n",
    "        \n",
    "    return image"
   ]
  },
  {
   "cell_type": "code",
   "execution_count": 37,
   "id": "585fb0bc-57d1-45f5-a274-d9a344e39b47",
   "metadata": {},
   "outputs": [],
   "source": [
    "# 이미지 불러오기\n",
    "image = cv2.imread(\"../dataset_dir/13.한국어글자체/01.손글씨/01_handwriting_sentence_images/1_sentence/00000002.png\")\n",
    "\n",
    "# 글씨 윤곽선 찾기\n",
    "contours = find_text_contours(image)\n",
    "\n",
    "# 가까운 윤곽선 그룹화\n",
    "grouped_contours = group_nearby_contours(contours)\n",
    "\n",
    "# 글씨 영역 표시\n",
    "marked_image = mark_text_regions(image, grouped_contours)"
   ]
  },
  {
   "cell_type": "code",
   "execution_count": 38,
   "id": "ab624b92-04b0-4531-a8af-e8b1a786a27f",
   "metadata": {},
   "outputs": [
    {
     "data": {
      "text/plain": [
       "True"
      ]
     },
     "execution_count": 38,
     "metadata": {},
     "output_type": "execute_result"
    }
   ],
   "source": [
    "from time import time\n",
    "\n",
    "# 결과 이미지 출력\n",
    "cv2.imwrite(f'./image/{time()}.jpg', image)"
   ]
  },
  {
   "cell_type": "code",
   "execution_count": null,
   "id": "7aaaf8be-c394-422e-b0d8-7a1a4256e9db",
   "metadata": {},
   "outputs": [],
   "source": []
  }
 ],
 "metadata": {
  "kernelspec": {
   "display_name": "Python 3 (ipykernel)",
   "language": "python",
   "name": "python3"
  },
  "language_info": {
   "codemirror_mode": {
    "name": "ipython",
    "version": 3
   },
   "file_extension": ".py",
   "mimetype": "text/x-python",
   "name": "python",
   "nbconvert_exporter": "python",
   "pygments_lexer": "ipython3",
   "version": "3.11.0rc1"
  }
 },
 "nbformat": 4,
 "nbformat_minor": 5
}
