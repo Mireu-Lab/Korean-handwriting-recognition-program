{
 "cells": [
  {
   "cell_type": "code",
   "execution_count": 1,
   "id": "fb2854e4-72ef-4384-9fc6-3827ae6fd525",
   "metadata": {},
   "outputs": [],
   "source": [
    "import cv2\n",
    "import numpy as np"
   ]
  },
  {
   "cell_type": "code",
   "execution_count": 2,
   "id": "e312ba37-d736-4399-8c02-34012000d4f2",
   "metadata": {},
   "outputs": [],
   "source": [
    "def find_text_contours(image):\n",
    "  \"\"\"\n",
    "  이미지에서 글씨 윤곽선을 찾아 반환합니다.\n",
    "\n",
    "  Args:\n",
    "    image: 입력 이미지 (BGR 채널)\n",
    "\n",
    "  Returns:\n",
    "    글씨 윤곽선 리스트\n",
    "  \"\"\"\n",
    "\n",
    "  # 이미지를 그레이스케일로 변환합니다.\n",
    "  gray = cv2.cvtColor(image, cv2.COLOR_BGR2GRAY)\n",
    "\n",
    "  # 가우시안 블러 적용으로 노이즈 제거\n",
    "  blurred = cv2.GaussianBlur(gray, (5, 5), 0)\n",
    "\n",
    "  # Canny 에지 검출 알고리즘 적용\n",
    "  edges = cv2.Canny(blurred, 100, 200)\n",
    "\n",
    "  # 윤곽선 추출\n",
    "  contours, _ = cv2.findContours(edges, cv2.RETR_EXTERNAL, cv2.CHAIN_APPROX_SIMPLE)\n",
    "\n",
    "  return contours"
   ]
  },
  {
   "cell_type": "code",
   "execution_count": 3,
   "id": "ec9d13dd-7bc0-4f1e-8d8c-fd741234847a",
   "metadata": {},
   "outputs": [],
   "source": [
    "def mark_text_regions(image, contours):\n",
    "  \"\"\"\n",
    "  이미지에 글씨 영역을 사각형으로 표시합니다.\n",
    "\n",
    "  Args:\n",
    "    image: 입력 이미지 (BGR 채널)\n",
    "    contours: 글씨 윤곽선 리스트\n",
    "\n",
    "  Returns:\n",
    "    글씨 영역이 표시된 이미지\n",
    "  \"\"\"\n",
    "\n",
    "  for contour in contours:\n",
    "    # 최소 외곽 사각형 계산\n",
    "    x, y, w, h = cv2.boundingRect(contour)\n",
    "\n",
    "    # 사각형 표시\n",
    "    cv2.rectangle(image, (x, y), (x+w, y+h), (0, 255, 0), 2)\n",
    "\n",
    "  return image"
   ]
  },
  {
   "cell_type": "code",
   "execution_count": 4,
   "id": "9e0eb30e-0d6e-4a9e-84d6-7f79fac18adb",
   "metadata": {},
   "outputs": [],
   "source": [
    "# 이미지 불러오기\n",
    "image = cv2.imread(\"../dataset_dir/13.한국어글자체/01.손글씨/01_handwriting_sentence_images/1_sentence/00000002.png\")\n",
    "\n",
    "# 글씨 윤곽선 찾기\n",
    "contours = find_text_contours(image)\n",
    "\n",
    "# 글씨 영역 표시\n",
    "marked_image = mark_text_regions(image, contours)"
   ]
  },
  {
   "cell_type": "code",
   "execution_count": 5,
   "id": "92f2875f-4559-4b74-bbed-1c683c4c21b5",
   "metadata": {},
   "outputs": [
    {
     "data": {
      "text/plain": [
       "True"
      ]
     },
     "execution_count": 5,
     "metadata": {},
     "output_type": "execute_result"
    }
   ],
   "source": [
    "from time import time\n",
    "\n",
    "# 결과 이미지 출력\n",
    "cv2.imwrite(f'./image/untitle13-{time()}.jpg', marked_image)"
   ]
  }
 ],
 "metadata": {
  "kernelspec": {
   "display_name": "Python 3 (ipykernel)",
   "language": "python",
   "name": "python3"
  },
  "language_info": {
   "codemirror_mode": {
    "name": "ipython",
    "version": 3
   },
   "file_extension": ".py",
   "mimetype": "text/x-python",
   "name": "python",
   "nbconvert_exporter": "python",
   "pygments_lexer": "ipython3",
   "version": "3.11.0rc1"
  }
 },
 "nbformat": 4,
 "nbformat_minor": 5
}
