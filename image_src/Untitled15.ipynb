{
 "cells": [
  {
   "cell_type": "code",
   "execution_count": 12,
   "metadata": {},
   "outputs": [],
   "source": [
    "import cv2\n",
    "\n",
    "image = cv2.imread(\"../dataset_dir/13.한국어글자체/01.손글씨/01_handwriting_sentence_images/1_sentence/00000002.png\")\n",
    "image2 = image.copy()\n",
    "\n",
    "# 컨투어 찾기 전 이미지 전처리\n",
    "gray = cv2.cvtColor(image, cv2.COLOR_BGR2GRAY)\n",
    "gray = cv2.GaussianBlur(gray, (5, 5), 0)\n",
    "gray = cv2.bitwise_not(gray) # 객체보다 배경이 밝은 경우 이미지 반전\n",
    "\n",
    "# canny edge, threshold 등 다양한 전처리 시도 -> 객체와 배경을 가장 잘 분리하는 전처리 사용\n",
    "thresh = cv2.Canny(gray, 100, 200)\n",
    "# _, thresh = cv2.threshold(gray, 127, 255, cv2.THRESH_BINARY)\n",
    "# thresh= cv2.adaptiveThreshold(gray, 255, cv2.ADAPTIVE_THRESH_GAUSSIAN_C, cv2.THRESH_BINARY, 11, 2)\n",
    "\n",
    "thresh = cv2.erode(thresh, None, iterations=2)\n",
    "thresh = cv2.dilate(thresh, None, iterations=2)\n",
    "\n",
    "# 컨투어 찾기\n",
    "contours, hierachy = cv2.findContours(thresh.copy(), cv2.RETR_EXTERNAL, cv2.CHAIN_APPROX_SIMPLE)\n",
    "\n",
    "# 컨투어 면적이 큰 순으로 정렬\n",
    "sorted_contours = sorted(contours, key=cv2.contourArea, reverse=True)\n",
    "\n",
    "for i in range(len(sorted_contours)):\n",
    "    contour = sorted_contours[i]\n",
    "    \n",
    "    # 근사 컨투어 계산을 위한 0.01의 오차 범위 지정 \n",
    "    epsilon = 0.01 * cv2.arcLength(contour, True)\n",
    "    approx = cv2.approxPolyDP(contour, epsilon, True)\n",
    "\n",
    "    cv2.drawContours(image, [contour], -1, (0,255,0), 3)\n",
    "    cv2.drawContours(image2, [approx], -1, (0,255,0), 3)\n",
    "\n",
    "    extLeft = tuple(contour[contour[:, :, 0].argmin()][0])\n",
    "    extRight = tuple(contour[contour[:, :, 0].argmax()][0])\n",
    "    extTop = tuple(contour[contour[:, :, 1].argmin()][0])\n",
    "    extBot = tuple(contour[contour[:, :, 1].argmax()][0])\n",
    "\n",
    "    cv2.circle(image, extLeft, 8, (0, 0, 255), -1)\n",
    "    cv2.circle(image, extRight, 8, (0, 255, 0), -1)\n",
    "    cv2.circle(image, extTop, 8, (255, 0, 0), -1)\n",
    "    cv2.circle(image, extBot, 8, (255, 255, 0), -1)"
   ]
  },
  {
   "cell_type": "code",
   "execution_count": 14,
   "metadata": {},
   "outputs": [
    {
     "data": {
      "text/plain": [
       "True"
      ]
     },
     "execution_count": 14,
     "metadata": {},
     "output_type": "execute_result"
    }
   ],
   "source": [
    "from time import time\n",
    "\n",
    "# 결과 이미지 출력\n",
    "cv2.imwrite(f'./image/untitle15-{time()}.jpg', image)"
   ]
  }
 ],
 "metadata": {
  "kernelspec": {
   "display_name": "Python 3",
   "language": "python",
   "name": "python3"
  },
  "language_info": {
   "codemirror_mode": {
    "name": "ipython",
    "version": 3
   },
   "file_extension": ".py",
   "mimetype": "text/x-python",
   "name": "python",
   "nbconvert_exporter": "python",
   "pygments_lexer": "ipython3",
   "version": "3.11.0"
  }
 },
 "nbformat": 4,
 "nbformat_minor": 2
}
