{
 "cells": [
  {
   "cell_type": "code",
   "execution_count": 19,
   "metadata": {},
   "outputs": [],
   "source": [
    "import numpy as np\n",
    "\n",
    "def is_close_boxes(box1:dict = None, box2:dict = None, min_distance:int = 0, log_view:bool = False):\n",
    "    \"\"\"\n",
    "    두 박스의 거리가 좁은지 확인합니다.\n",
    "    \n",
    "    Args:\n",
    "        box1: 첫 번째 박스\n",
    "        box2: 두 번째 박스\n",
    "        min_distance: 최소 거리\n",
    "    \n",
    "    Returns:\n",
    "        True if 두 박스의 거리가 좁으면, False otherwise\n",
    "    \"\"\"\n",
    "    \n",
    "    box1_center_x = (box1[\"x\"] + box1[\"w\"]) / 2\n",
    "    box1_center_y = (box1[\"y\"] + box1[\"h\"]) / 2\n",
    "\n",
    "    \n",
    "    box2_center_x = (box2[\"x\"] + box2[\"w\"]) / 2\n",
    "    box2_center_y = (box2[\"y\"] + box2[\"h\"]) / 2\n",
    "    \n",
    "    # 두 박스의 중심점 간의 거리를 계산합니다.\n",
    "    distance = np.sqrt(\n",
    "        ((box1_center_x - box2_center_x)**2) +\n",
    "        ((box1_center_y - box2_center_y)**2)\n",
    "    )\n",
    "\n",
    "    if log_view:\n",
    "        print(distance, distance <= min_distance)\n",
    "\n",
    "    return distance <= min_distance"
   ]
  },
  {
   "cell_type": "code",
   "execution_count": 20,
   "metadata": {},
   "outputs": [],
   "source": [
    "def merge_boxes(box1, box2):\n",
    "    \"\"\"\n",
    "    두 박스를 하나의 박스로 합칩니다.\n",
    "    \n",
    "    Args:\n",
    "        box1: 첫 번째 박스\n",
    "        box2: 두 번째 박스\n",
    "    \n",
    "    Returns:\n",
    "        합쳐진 박스\n",
    "    \"\"\"\n",
    "    \n",
    "    return {\n",
    "        \"x\": min(box1[\"x\"], box2[\"x\"]), # X\n",
    "        \"y\": min(box1[\"y\"], box2[\"y\"]), # Y\n",
    "        \"w\": max(box1[\"x\"] + box1[\"w\"], box2[\"x\"] + box2[\"w\"]) - min(box1[\"x\"], box2[\"x\"]), # W\n",
    "        \"h\": max(box1[\"y\"] + box1[\"h\"], box2[\"y\"] + box2[\"h\"]) - min(box1[\"y\"], box2[\"y\"]), # H\n",
    "    }"
   ]
  },
  {
   "cell_type": "code",
   "execution_count": 21,
   "metadata": {},
   "outputs": [],
   "source": [
    "def is_intersecting(box1: dict, box2: dict):\n",
    "  \"\"\"\n",
    "  두 박스가 겹쳐지는지 확인합니다.\n",
    "\n",
    "  Args:\n",
    "    box1: 첫 번째 박스\n",
    "    box2: 두 번째 박스\n",
    "\n",
    "  Returns:\n",
    "    True if 두 박스가 겹치면, False otherwise\n",
    "  \"\"\"\n",
    "\n",
    "  return (\n",
    "    box2[\"x\"] < box2[\"x\"] + box2[\"w\"] and\n",
    "    box2[\"x\"] < box1[\"x\"] + box1[\"w\"] and\n",
    "    box2[\"y\"] < box2[\"y\"] + box2[\"h\"] and\n",
    "    box2[\"y\"] < box1[\"y\"] + box1[\"h\"]\n",
    "  )"
   ]
  },
  {
   "cell_type": "code",
   "execution_count": 22,
   "metadata": {},
   "outputs": [],
   "source": [
    "def group_boxes(boxes, min_distance):\n",
    "  \"\"\"\n",
    "  겹쳐지거나 가까운 박스들을 그룹으로 묶습니다.\n",
    "\n",
    "  Args:\n",
    "    boxes: 박스 리스트\n",
    "    min_distance: 박스간의 최소 거리\n",
    "\n",
    "  Returns:\n",
    "    그룹화된 박스 리스트\n",
    "  \"\"\"\n",
    "\n",
    "  merged_boxes = []\n",
    "  for i in range(len(boxes)):\n",
    "    merged_box = boxes[i]\n",
    "      \n",
    "    for j in range(i+1, len(boxes)):\n",
    "      if is_intersecting(boxes[i], boxes[j]): # 두 박스가 겹쳐지는지 확인합니다.\n",
    "        merged_box = merge_boxes(boxes[i], boxes[j]) # 겹쳐지는 박스를 하나로 합칩니다.\n",
    "        merged_boxes.append(merged_box)\n",
    "\n",
    "  return merged_boxes"
   ]
  },
  {
   "cell_type": "code",
   "execution_count": 23,
   "metadata": {},
   "outputs": [],
   "source": [
    "import cv2\n",
    "\n",
    "image = cv2.imread(\"../dataset_dir/13.한국어글자체/01.손글씨/01_handwriting_sentence_images/1_sentence/00000002.png\")\n",
    "image2 = image.copy()\n",
    "\n",
    "# 컨투어 찾기 전 이미지 전처리\n",
    "gray = cv2.cvtColor(image, cv2.COLOR_BGR2GRAY)\n",
    "gray = cv2.GaussianBlur(gray, (5, 5), 0)\n",
    "gray = cv2.bitwise_not(gray) # 객체보다 배경이 밝은 경우 이미지 반전\n",
    "\n",
    "# threshold 등 다양한 전처리 시도 -> 객체와 배경을 가장 잘 분리하는 전처리 사용\n",
    "_, thresh = cv2.threshold(gray, 127, 255, cv2.THRESH_BINARY)\n",
    "\n",
    "thresh = cv2.erode(thresh, None, iterations=2)\n",
    "thresh = cv2.dilate(thresh, None, iterations=2)\n",
    "\n",
    "# 컨투어 찾기\n",
    "contours, _ = cv2.findContours(thresh, cv2.RETR_EXTERNAL, cv2.CHAIN_APPROX_SIMPLE)"
   ]
  },
  {
   "cell_type": "code",
   "execution_count": 24,
   "metadata": {},
   "outputs": [],
   "source": [
    "processed_boxes = []\n",
    "original_boxes = []\n",
    "\n",
    "for contour in contours:\n",
    "    x, y, w, h = cv2.boundingRect(contour)\n",
    "    \n",
    "    original_boxes.append({\n",
    "        \"x\": x, \n",
    "        \"y\": y, \n",
    "        \"w\": w, \n",
    "        \"h\": h\n",
    "    })\n",
    "    processed_boxes.append({\n",
    "        \"x\": x, \n",
    "        \"y\": y, \n",
    "        \"w\": (x + w), \n",
    "        \"h\": (y + h)\n",
    "    })\n",
    "\n",
    "original_boxes = sorted(original_boxes, key=lambda country: country[\"x\"])\n",
    "processed_boxes = sorted(processed_boxes, key=lambda country: country[\"x\"])"
   ]
  },
  {
   "cell_type": "code",
   "execution_count": 25,
   "metadata": {},
   "outputs": [],
   "source": [
    "grouped_boxes = group_boxes(processed_boxes, 10)"
   ]
  },
  {
   "cell_type": "code",
   "execution_count": 26,
   "metadata": {},
   "outputs": [],
   "source": [
    "# 거리가 좁은 박스를 하나의 박스로 합칩니다.\n",
    "# merged_boxes = []\n",
    "# for i in range(len(processed_boxes)):\n",
    "#     if is_close_boxes(processed_boxes[i], processed_boxes[i+1], 50, True):\n",
    "#         merged_box = merge_boxes(processed_boxes[i], processed_boxes[i+1])\n",
    "#         merged_boxes.append(merged_box)"
   ]
  },
  {
   "cell_type": "code",
   "execution_count": 27,
   "metadata": {},
   "outputs": [
    {
     "data": {
      "text/plain": [
       "True"
      ]
     },
     "execution_count": 27,
     "metadata": {},
     "output_type": "execute_result"
    }
   ],
   "source": [
    "# 합쳐진 박스를 표기합니다.\n",
    "for box in grouped_boxes:\n",
    "    cv2.rectangle(image, (box[\"x\"], box[\"y\"]), (box[\"w\"], box[\"h\"]), (0, 255, 0), 2)\n",
    "\n",
    "# 결과 이미지 출력\n",
    "cv2.imwrite(f'./image/asdf.jpg', image)"
   ]
  }
 ],
 "metadata": {
  "kernelspec": {
   "display_name": "Python 3",
   "language": "python",
   "name": "python3"
  },
  "language_info": {
   "codemirror_mode": {
    "name": "ipython",
    "version": 3
   },
   "file_extension": ".py",
   "mimetype": "text/x-python",
   "name": "python",
   "nbconvert_exporter": "python",
   "pygments_lexer": "ipython3",
   "version": "3.11.0rc1"
  }
 },
 "nbformat": 4,
 "nbformat_minor": 2
}
