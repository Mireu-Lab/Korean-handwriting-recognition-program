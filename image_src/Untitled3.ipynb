{
 "cells": [
  {
   "cell_type": "code",
   "execution_count": 14,
   "id": "a52a7b73-2b95-400f-8c45-b1d5e05eb723",
   "metadata": {},
   "outputs": [],
   "source": [
    "from PIL import Image  # Using PIL\n",
    "# OR\n",
    "from PIL import ImageOps  # Using pillow"
   ]
  },
  {
   "cell_type": "code",
   "execution_count": 17,
   "id": "b69ce410-a02b-4b1e-bbee-496d46b73a4f",
   "metadata": {},
   "outputs": [
    {
     "ename": "AttributeError",
     "evalue": "module 'PIL.ImageOps' has no attribute 'threshold'",
     "output_type": "error",
     "traceback": [
      "\u001b[0;31m---------------------------------------------------------------------------\u001b[0m",
      "\u001b[0;31mAttributeError\u001b[0m                            Traceback (most recent call last)",
      "Cell \u001b[0;32mIn[17], line 6\u001b[0m\n\u001b[1;32m      3\u001b[0m gray_image \u001b[38;5;241m=\u001b[39m image\u001b[38;5;241m.\u001b[39mconvert(\u001b[38;5;124m\"\u001b[39m\u001b[38;5;124mL\u001b[39m\u001b[38;5;124m\"\u001b[39m)\n\u001b[1;32m      5\u001b[0m \u001b[38;5;66;03m# 이미지 이진화\u001b[39;00m\n\u001b[0;32m----> 6\u001b[0m threshold \u001b[38;5;241m=\u001b[39m \u001b[43mImageOps\u001b[49m\u001b[38;5;241;43m.\u001b[39;49m\u001b[43mthreshold\u001b[49m(gray_image)[\u001b[38;5;241m0\u001b[39m]  \u001b[38;5;66;03m# Calculate threshold\u001b[39;00m\n\u001b[1;32m      7\u001b[0m \u001b[38;5;66;03m# auto_threshold(gray_image)[0]  # Calculate threshold\u001b[39;00m\n\u001b[1;32m      8\u001b[0m binary_image \u001b[38;5;241m=\u001b[39m gray_image\u001b[38;5;241m.\u001b[39mpoint(\u001b[38;5;28;01mlambda\u001b[39;00m x: \u001b[38;5;241m0\u001b[39m \u001b[38;5;28;01mif\u001b[39;00m x \u001b[38;5;241m<\u001b[39m threshold \u001b[38;5;28;01melse\u001b[39;00m \u001b[38;5;241m255\u001b[39m)\n",
      "\u001b[0;31mAttributeError\u001b[0m: module 'PIL.ImageOps' has no attribute 'threshold'"
     ]
    }
   ],
   "source": [
    "# 이미지 불러오기 및 변환\n",
    "image = Image.open(\"./dataset_dir/13.한국어글자체/01.손글씨/01_handwriting_sentence_images/1_sentence/00000002.png\")\n",
    "gray_image = image.convert(\"L\")\n",
    "\n",
    "# 이미지 이진화\n",
    "threshold = ImageOps.threshold(gray_image)[0]  # Calculate threshold\n",
    "# auto_threshold(gray_image)[0]  # Calculate threshold\n",
    "binary_image = gray_image.point(lambda x: 0 if x < threshold else 255)\n",
    "\n",
    "# threshold = gray_image.convert(\"1\").point(lambda x: 0 if x < threshold else 255)\n",
    "# binary_image = gray_image.point(lambda x: 0 if x < threshold else 255)\n",
    "\n",
    "# 윤곽선 추출 및 최소 사각형 계산\n",
    "inverted_image = ImageChops.invert(binary_image)\n",
    "edges = inverted_image.find_edges()\n",
    "bbox = edges.getbbox()\n",
    "\n",
    "# 이미지 자르기 및 저장\n",
    "cropped_image = binary_image.crop(bbox)\n",
    "cropped_image.save(\"cropped_image.png\")\n"
   ]
  },
  {
   "cell_type": "code",
   "execution_count": 19,
   "id": "9a7ca87a-24ff-4373-b772-379701337714",
   "metadata": {},
   "outputs": [
    {
     "data": {
      "text/plain": [
       "array([[0.99607843, 0.99215686, 0.99607843, ..., 0.70980394, 0.72156864,\n",
       "        0.6862745 ],\n",
       "       [0.99215686, 0.9882353 , 0.99607843, ..., 0.99607843, 0.9882353 ,\n",
       "        0.9529412 ],\n",
       "       [0.99215686, 0.9882353 , 0.99607843, ..., 0.99607843, 0.99607843,\n",
       "        0.99215686],\n",
       "       ...,\n",
       "       [0.9882353 , 0.99215686, 0.99215686, ..., 0.99607843, 0.9764706 ,\n",
       "        0.81960785],\n",
       "       [0.8980392 , 0.93333334, 0.94509804, ..., 0.99215686, 0.9764706 ,\n",
       "        0.81960785],\n",
       "       [0.654902  , 0.7137255 , 0.7490196 , ..., 0.99215686, 0.9764706 ,\n",
       "        0.827451  ]], dtype=float32)"
      ]
     },
     "execution_count": 19,
     "metadata": {},
     "output_type": "execute_result"
    }
   ],
   "source": [
    "import numpy as np \n",
    "\n",
    "x = np.array(gray_image)\n",
    "x.astype(\"float32\")/255"
   ]
  }
 ],
 "metadata": {
  "kernelspec": {
   "display_name": "Python 3 (ipykernel)",
   "language": "python",
   "name": "python3"
  },
  "language_info": {
   "codemirror_mode": {
    "name": "ipython",
    "version": 3
   },
   "file_extension": ".py",
   "mimetype": "text/x-python",
   "name": "python",
   "nbconvert_exporter": "python",
   "pygments_lexer": "ipython3",
   "version": "3.11.0rc1"
  }
 },
 "nbformat": 4,
 "nbformat_minor": 5
}
