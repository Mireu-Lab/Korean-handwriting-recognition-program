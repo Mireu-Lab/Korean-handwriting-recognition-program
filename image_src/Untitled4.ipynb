{
 "cells": [
  {
   "cell_type": "code",
   "execution_count": 5,
   "id": "d1b20049-9054-4948-ba37-e99fd3c45684",
   "metadata": {},
   "outputs": [],
   "source": [
    "from PIL import Image, ImageDraw, ImageOps\n",
    "import numpy as np\n",
    "import cv2"
   ]
  },
  {
   "cell_type": "code",
   "execution_count": 6,
   "id": "e80e7fc3-42b0-4e9a-85da-e4b5e191f393",
   "metadata": {},
   "outputs": [],
   "source": [
    "def find_objects(image):\n",
    "  \"\"\"\n",
    "  이미지에서 윤곽선이 들어가는 오브젝트를 찾아 박스로 표기합니다.\n",
    "\n",
    "  Args:\n",
    "    image: PIL 이미지 객체\n",
    "\n",
    "  Returns:\n",
    "    박스로 표기된 이미지 (PIL 이미지 객체)\n",
    "  \"\"\"\n",
    "\n",
    "  # 이미지를 흑백으로 변환합니다.\n",
    "  grayscale_image = ImageOps.grayscale(image)\n",
    "\n",
    "  # Canny 알고리즘을 사용하여 윤곽선을 추출합니다.\n",
    "  edges = np.array(grayscale_image.convert('L'))\n",
    "  edges = cv2.Canny(edges, 200, 200)\n",
    "\n",
    "  # 윤곽선을 추출합니다.\n",
    "  contours, _ = cv2.findContours(edges, cv2.RETR_EXTERNAL, cv2.CHAIN_APPROX_SIMPLE)\n",
    "\n",
    "  # 각 윤곽선을 박스로 표기합니다.\n",
    "  for contour in contours:\n",
    "    x, y, w, h = cv2.boundingRect(contour)\n",
    "    draw = ImageDraw.Draw(image)\n",
    "    draw.rectangle((x, y, x + w, y + h), outline=(0, 255, 0))\n",
    "\n",
    "  return image"
   ]
  },
  {
   "cell_type": "code",
   "execution_count": 8,
   "id": "22e59e23-ca84-479e-92db-52ed59e75a16",
   "metadata": {},
   "outputs": [],
   "source": [
    "# 이미지 불러오기\n",
    "image = Image.open(\"dataset_dir/13.한국어글자체/01.손글씨/01_handwriting_sentence_images/1_sentence/00000003.png\")\n",
    "\n",
    "# 오브젝트 찾기\n",
    "object_image = find_objects(image)\n",
    "\n",
    "# 결과 이미지 저장\n",
    "object_image.save(\"result.jpg\")"
   ]
  },
  {
   "cell_type": "code",
   "execution_count": null,
   "id": "6096ae03-568a-4b7b-933b-dbc6c55ba850",
   "metadata": {},
   "outputs": [],
   "source": []
  }
 ],
 "metadata": {
  "kernelspec": {
   "display_name": "Python 3 (ipykernel)",
   "language": "python",
   "name": "python3"
  },
  "language_info": {
   "codemirror_mode": {
    "name": "ipython",
    "version": 3
   },
   "file_extension": ".py",
   "mimetype": "text/x-python",
   "name": "python",
   "nbconvert_exporter": "python",
   "pygments_lexer": "ipython3",
   "version": "3.11.0rc1"
  }
 },
 "nbformat": 4,
 "nbformat_minor": 5
}
