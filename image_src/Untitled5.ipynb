{
 "cells": [
  {
   "cell_type": "code",
   "execution_count": 106,
   "id": "25ea38e3-791b-46ab-a39a-b7c37e3029ce",
   "metadata": {},
   "outputs": [],
   "source": [
    "from PIL import Image, ImageDraw, ImageOps\n",
    "import numpy as np\n",
    "import cv2"
   ]
  },
  {
   "cell_type": "code",
   "execution_count": 107,
   "id": "79799e7d-eb2a-4e2c-b796-6a7f5f9ccd30",
   "metadata": {},
   "outputs": [],
   "source": [
    "def find_objects(image, min_distance):\n",
    "    \"\"\"\n",
    "    이미지에서 윤곽선이 들어가는 오브젝트를 찾아 박스로 표기하고, 박스간의 거리가 좁으면 하나의 박스로 합쳐줍니다.\n",
    "    \n",
    "    Args:\n",
    "        image: PIL 이미지 객체\n",
    "        min_distance: 박스간의 최소 거리\n",
    "    \n",
    "    Returns:\n",
    "        박스로 표기된 이미지 (PIL 이미지 객체)\n",
    "    \"\"\"\n",
    "\n",
    "    # 이미지를 흑백으로 변환합니다.\n",
    "    grayscale_image = ImageOps.grayscale(image)\n",
    "    \n",
    "    # Canny 알고리즘을 사용하여 윤곽선을 추출합니다.\n",
    "    edges = np.array(grayscale_image.convert('L'))\n",
    "    edges = cv2.Canny(edges, 100, 200)\n",
    "    \n",
    "    # 윤곽선을 추출합니다.\n",
    "    contours, _ = cv2.findContours(edges, cv2.RETR_EXTERNAL, cv2.CHAIN_APPROX_SIMPLE)\n",
    "    \n",
    "    # 박스를 표기하고 거리를 계산합니다.\n",
    "    draw = ImageDraw.Draw(image)\n",
    "    boxes = []\n",
    "    for contour in contours:\n",
    "        x, y, w, h = cv2.boundingRect(contour)\n",
    "        box = (x, y, x+w, y+h)\n",
    "        boxes.append(box)\n",
    "    \n",
    "    print(boxes)\n",
    "\n",
    "    \n",
    "    # 거리가 좁은 박스를 하나의 박스로 합칩니다.\n",
    "    merged_boxes = []\n",
    "    for i in range(len(boxes)):\n",
    "        merged_box = boxes[i]\n",
    "        \n",
    "        for j in range(i+1, len(boxes)):\n",
    "            if is_close_boxes(merged_box, boxes[j], min_distance) == True:\n",
    "                merged_box = merge_boxes(merged_box, boxes[j])\n",
    "                # print(merged_box, j)\n",
    "                merged_boxes.append(merged_box)\n",
    "            \n",
    "    print(merged_boxes)\n",
    "    \n",
    "    # 합쳐진 박스를 표기합니다.\n",
    "    for box in merged_boxes:\n",
    "        draw.rectangle(box, outline=(33, 33, 33))\n",
    "    \n",
    "    return image"
   ]
  },
  {
   "cell_type": "code",
   "execution_count": 108,
   "id": "2f13efb0-364c-48fb-8c53-01f1b24386dc",
   "metadata": {},
   "outputs": [],
   "source": [
    "def is_close_boxes(box1, box2, min_distance):\n",
    "    \"\"\"\n",
    "    두 박스의 거리가 좁은지 확인합니다.\n",
    "    \n",
    "    Args:\n",
    "        box1: 첫 번째 박스\n",
    "        box2: 두 번째 박스\n",
    "        min_distance: 최소 거리\n",
    "    \n",
    "    Returns:\n",
    "        True if 두 박스의 거리가 좁으면, False otherwise\n",
    "    \"\"\"\n",
    "\n",
    "    b1_x, b1_y, b1_w, b1_h = box1\n",
    "    \n",
    "    box1_center_x = (b1_x + b1_w) / 2\n",
    "    box1_center_y = (b1_y + b1_h) / 2\n",
    "\n",
    "    \n",
    "    b2_x, b2_y, b2_w, b2_h = box2\n",
    "\n",
    "    box2_center_x = (b2_x + b2_w) / 2\n",
    "    box2_center_y = (b2_y + b2_h) / 2\n",
    "    \n",
    "    # 두 박스의 중심점 간의 거리를 계산합니다.\n",
    "    distance = np.sqrt(\n",
    "        ((box1_center_x - box1_center_y)**2) +\n",
    "        ((box2_center_x - box2_center_y)**2)\n",
    "    )\n",
    "\n",
    "    # print(distance, distance <= min_distance)\n",
    "\n",
    "    return distance <= min_distance"
   ]
  },
  {
   "cell_type": "code",
   "execution_count": 109,
   "id": "f86654b9-bbe2-42d6-86aa-4260377f683c",
   "metadata": {},
   "outputs": [],
   "source": [
    "def merge_boxes(box1, box2):\n",
    "    \"\"\"\n",
    "    두 박스를 하나의 박스로 합칩니다.\n",
    "    \n",
    "    Args:\n",
    "    box1: 첫 번째 박스\n",
    "    box2: 두 번째 박스\n",
    "    \n",
    "    Returns:\n",
    "    합쳐진 박스\n",
    "    \"\"\"\n",
    "    \n",
    "    b1_x, b1_y, b1_w, b1_h = box1\n",
    "    b2_x, b2_y, b2_w, b2_h = box2\n",
    "    \n",
    "    return (\n",
    "        min(b1_x, b2_x), # X\n",
    "        min(b1_y, b2_y), # Y\n",
    "        max(b1_w, b2_w), # W\n",
    "        max(b1_h, b2_h), # H\n",
    "    )"
   ]
  },
  {
   "cell_type": "code",
   "execution_count": 110,
   "id": "d80b4ee9-cfbe-4ba9-8290-9661e38730f2",
   "metadata": {
    "scrolled": true
   },
   "outputs": [
    {
     "name": "stdout",
     "output_type": "stream",
     "text": [
      "[(0, 174, 30, 176), (1821, 143, 1860, 157), (2825, 118, 2881, 128), (2724, 117, 2775, 156), (1805, 117, 1862, 164), (2407, 114, 2444, 159), (3116, 113, 3165, 151), (2631, 113, 2633, 114), (928, 112, 929, 114), (2015, 111, 2019, 114), (1351, 107, 1403, 149), (363, 105, 368, 108), (2010, 99, 2012, 102), (2736, 98, 2740, 100), (2012, 98, 2014, 102), (930, 98, 931, 101), (890, 98, 930, 122), (623, 98, 625, 101), (1212, 96, 1263, 146), (927, 96, 928, 97), (2721, 94, 2738, 101), (2011, 94, 2013, 96), (1782, 94, 1845, 110), (2006, 93, 2010, 98), (1485, 93, 1527, 140), (619, 92, 689, 136), (2011, 91, 2012, 93), (1583, 91, 1658, 134), (1290, 86, 1291, 87), (1285, 86, 1287, 88), (2752, 82, 2756, 86), (3471, 78, 3516, 118), (3342, 78, 3379, 103), (2470, 78, 2507, 121), (2349, 78, 2403, 131), (3534, 74, 3547, 150), (2824, 74, 2860, 111), (2631, 70, 2632, 71), (3000, 69, 3064, 135), (2083, 68, 2124, 131), (3325, 67, 3379, 93), (2879, 67, 2898, 152), (1949, 64, 1995, 143), (3380, 63, 3435, 140), (2514, 62, 2554, 132), (2201, 62, 2212, 71), (338, 62, 384, 113), (2744, 61, 2746, 63), (2411, 61, 2438, 112), (393, 61, 438, 102), (2581, 60, 2639, 122), (1186, 60, 1252, 94), (637, 60, 640, 62), (2199, 58, 2261, 160), (3202, 56, 3261, 110), (2355, 56, 2386, 72), (2013, 56, 2048, 133), (1793, 56, 1834, 89), (738, 56, 802, 115), (2148, 55, 2164, 139), (2053, 54, 2071, 152), (1684, 54, 1727, 92), (3261, 53, 3315, 137), (2643, 52, 2690, 136), (2355, 52, 2360, 56), (3337, 51, 3363, 62), (3091, 51, 3141, 110), (2703, 51, 2762, 109), (848, 49, 886, 83), (1339, 48, 1383, 107), (265, 46, 324, 125), (3611, 45, 3613, 176), (1699, 45, 1758, 137), (803, 44, 841, 114), (721, 44, 788, 96), (613, 44, 619, 50), (991, 43, 1057, 95), (1282, 41, 1339, 116), (1409, 40, 1467, 103), (1293, 40, 1328, 78), (86, 40, 135, 119), (1477, 38, 1511, 89), (1061, 37, 1100, 121), (581, 37, 582, 41), (1584, 33, 1644, 89), (576, 33, 637, 92), (645, 31, 647, 32), (446, 31, 502, 125), (881, 28, 940, 129), (618, 28, 655, 85), (1180, 26, 1241, 69), (44, 23, 88, 121), (214, 19, 224, 42), (234, 18, 249, 47), (3589, 0, 3613, 3), (3540, 0, 3573, 2), (3412, 0, 3425, 2), (3373, 0, 3408, 2), (3363, 0, 3371, 1), (3301, 0, 3310, 2), (3285, 0, 3290, 2), (3262, 0, 3267, 2), (3252, 0, 3258, 1)]\n",
      "[]\n"
     ]
    }
   ],
   "source": [
    "import time\n",
    "\n",
    "# 이미지 불러오기\n",
    "image = Image.open(\"../dataset_dir/13.한국어글자체/01.손글씨/01_handwriting_sentence_images/1_sentence/00000008.png\")\n",
    "\n",
    "# 오브젝트 찾기\n",
    "object_image = find_objects(image, min_distance=5)\n",
    "\n",
    "# 결과 이미지 저장\n",
    "object_image.save(f\"./image/untitle5-{time.time()}.jpg\")"
   ]
  },
  {
   "cell_type": "code",
   "execution_count": null,
   "id": "6fcf4489-bd0a-4183-9ae3-eeecdf375178",
   "metadata": {},
   "outputs": [],
   "source": []
  }
 ],
 "metadata": {
  "kernelspec": {
   "display_name": "Python 3 (ipykernel)",
   "language": "python",
   "name": "python3"
  },
  "language_info": {
   "codemirror_mode": {
    "name": "ipython",
    "version": 3
   },
   "file_extension": ".py",
   "mimetype": "text/x-python",
   "name": "python",
   "nbconvert_exporter": "python",
   "pygments_lexer": "ipython3",
   "version": "3.11.0rc1"
  }
 },
 "nbformat": 4,
 "nbformat_minor": 5
}
