{
 "cells": [
  {
   "cell_type": "code",
   "execution_count": 1,
   "id": "4c5df732-2ac5-43a7-a5ac-8d99803ff2c3",
   "metadata": {},
   "outputs": [],
   "source": [
    "box1_x1 = 1\n",
    "box1_y1 = 2\n",
    "box1_x2 = 5\n",
    "box1_y2 = 6\n",
    "\n",
    "box2_x1 = 4\n",
    "box2_y1 = 5\n",
    "box2_x2 = 7\n",
    "box2_y2 = 8"
   ]
  },
  {
   "cell_type": "code",
   "execution_count": 2,
   "id": "34ed8b1a-0931-4689-85f0-c9370480ebb2",
   "metadata": {},
   "outputs": [],
   "source": [
    "box1_center_x = (box1_x1 + box1_x2) / 2\n",
    "box1_center_y = (box1_y1 + box1_y2) / 2\n",
    "\n",
    "box2_center_x = (box2_x1 + box2_x2) / 2\n",
    "box2_center_y = (box2_y1 + box2_y2) / 2"
   ]
  },
  {
   "cell_type": "code",
   "execution_count": 4,
   "id": "47c50898-ac71-4884-8787-2b3be2ebdbc5",
   "metadata": {},
   "outputs": [],
   "source": [
    "import numpy as np\n",
    "\n",
    "distance = np.sqrt(((box1_center_x - box2_center_x)**2) + ((box1_center_y - box2_center_y)**2))"
   ]
  },
  {
   "cell_type": "code",
   "execution_count": 5,
   "id": "9d6adaa3-9b85-4fbb-ba30-8e4a4abf2186",
   "metadata": {},
   "outputs": [
    {
     "ename": "NameError",
     "evalue": "name 'box1_radius' is not defined",
     "output_type": "error",
     "traceback": [
      "\u001b[0;31m---------------------------------------------------------------------------\u001b[0m",
      "\u001b[0;31mNameError\u001b[0m                                 Traceback (most recent call last)",
      "Cell \u001b[0;32mIn[5], line 1\u001b[0m\n\u001b[0;32m----> 1\u001b[0m \u001b[38;5;28;01mif\u001b[39;00m distance \u001b[38;5;241m<\u001b[39m\u001b[38;5;241m=\u001b[39m (\u001b[43mbox1_radius\u001b[49m \u001b[38;5;241m+\u001b[39m box2_radius):\n\u001b[1;32m      2\u001b[0m     \u001b[38;5;28mprint\u001b[39m(\u001b[38;5;124m\"\u001b[39m\u001b[38;5;124m두 박스는 중심값을 가지고 있습니다.\u001b[39m\u001b[38;5;124m\"\u001b[39m)\n\u001b[1;32m      3\u001b[0m \u001b[38;5;28;01melse\u001b[39;00m:\n",
      "\u001b[0;31mNameError\u001b[0m: name 'box1_radius' is not defined"
     ]
    }
   ],
   "source": [
    "if distance <= (box1_radius + box2_radius):\n",
    "    print(\"두 박스는 중심값을 가지고 있습니다.\")\n",
    "else:\n",
    "    print(\"두 박스는 중심값을 가지고 있지 않습니다.\")"
   ]
  },
  {
   "cell_type": "code",
   "execution_count": null,
   "id": "04358379-4371-4dae-b5c6-9771de2de0cb",
   "metadata": {},
   "outputs": [],
   "source": []
  }
 ],
 "metadata": {
  "kernelspec": {
   "display_name": "Python 3 (ipykernel)",
   "language": "python",
   "name": "python3"
  },
  "language_info": {
   "codemirror_mode": {
    "name": "ipython",
    "version": 3
   },
   "file_extension": ".py",
   "mimetype": "text/x-python",
   "name": "python",
   "nbconvert_exporter": "python",
   "pygments_lexer": "ipython3",
   "version": "3.11.0rc1"
  }
 },
 "nbformat": 4,
 "nbformat_minor": 5
}
