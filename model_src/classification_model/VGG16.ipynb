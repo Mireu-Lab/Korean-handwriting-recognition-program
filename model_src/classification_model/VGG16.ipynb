{
 "cells": [
  {
   "cell_type": "code",
   "execution_count": null,
   "metadata": {},
   "outputs": [],
   "source": [
    "# !rm gen_image.tar.gz\n",
    "# !wget http://mireu-server.iptime.org/api/public/dl/QLwEhRq3/DataSet/%EA%B0%9D%EC%B2%B4%EC%9D%B8%EC%8B%9D_%EC%97%B0%EA%B5%AC/13.%ED%95%9C%EA%B5%AD%EC%96%B4%EA%B8%80%EC%9E%90%EC%B2%B4/image_gen/new_image/gen_image.tar.gz\n",
    "# !tar -xzvf gen_image.tar.gz\n",
    "# !pip3 install tqdm"
   ]
  },
  {
   "cell_type": "code",
   "execution_count": 1,
   "metadata": {},
   "outputs": [],
   "source": [
    "from PIL import Image\n",
    "import numpy as np\n",
    "import os\n",
    "\n",
    "layerList = [\"가\", \"나\", \"다\"]\n",
    "# , \"라\", \"마\", \"바\", \"아\", \"자\", \"차\", \"카\", \"타\", \"파\", \"하\"\n",
    "\n",
    "all_x_array = []\n",
    "all_y_array = []\n",
    "\n",
    "for dir in layerList:\n",
    "    fileList = os.listdir(f\"./gen_image/{dir}\")[:14000]\n",
    "\n",
    "    for file in fileList:\n",
    "        y_array = dict.fromkeys(layerList, 0) # 12000개의 str 값을 0으로 초기화하는 dict 생성\n",
    "\n",
    "        imageData = Image.open(f\"\"\"./gen_image/{dir}/{file}\"\"\") # 이미지 tensor 데이터 출력\n",
    "        imageData = imageData.resize((50, 50)) # 이미지 다운스케일링\n",
    "\n",
    "        imageData = np.array(imageData)\n",
    "        all_x_array.append(imageData.tolist())\n",
    "\n",
    "        y_array[dir] = 1 # 사용자가 지정한 str 값을 1로 변경\n",
    "        y_array = list(y_array.values())\n",
    "        all_y_array.append(y_array)\n"
   ]
  },
  {
   "cell_type": "code",
   "execution_count": 2,
   "metadata": {},
   "outputs": [],
   "source": [
    "x_array = np.array(all_x_array)\n",
    "y_array = np.array(all_y_array)"
   ]
  },
  {
   "cell_type": "code",
   "execution_count": 3,
   "metadata": {},
   "outputs": [],
   "source": [
    "del all_x_array, all_y_array"
   ]
  },
  {
   "cell_type": "code",
   "execution_count": 4,
   "metadata": {},
   "outputs": [
    {
     "name": "stdout",
     "output_type": "stream",
     "text": [
      "(42000, 50, 50, 3) (42000, 3)\n"
     ]
    }
   ],
   "source": [
    "print(x_array.shape, y_array.shape)"
   ]
  },
  {
   "cell_type": "code",
   "execution_count": 5,
   "metadata": {},
   "outputs": [],
   "source": [
    "# from sklearn.model_selection import train_test_split\n",
    "\n",
    "# X_train, X_test, Y_train, Y_test = train_test_split(\n",
    "#     x_array, y_array, test_size=0.4, shuffle=False, random_state=1004\n",
    "# )\n",
    "\n",
    "from sklearn.model_selection import KFold\n",
    "\n",
    "# split 개수, 셔플 여부 및 seed 설정\n",
    "kf = KFold(n_splits = 10, shuffle = True, random_state = 50)\n",
    "\n",
    "# split 개수 스텝 만큼 train, test 데이터셋을 매번 분할\n",
    "for train_index, test_index in kf.split(x_array):\n",
    "    X_train, X_test = x_array[train_index], x_array[test_index]\n",
    "    Y_train, Y_test = y_array[train_index], y_array[test_index]"
   ]
  },
  {
   "cell_type": "code",
   "execution_count": 6,
   "metadata": {},
   "outputs": [],
   "source": [
    "X_train = X_train.astype(\"float32\") / 255\n",
    "Y_train = Y_train.astype(\"float32\") / 255\n",
    "\n",
    "X_test = X_test.astype(\"float32\") / 255\n",
    "Y_test = Y_test.astype(\"float32\") / 255"
   ]
  },
  {
   "cell_type": "code",
   "execution_count": 7,
   "metadata": {},
   "outputs": [],
   "source": [
    "image_w, image_h, image_layer = X_train.shape[1], X_train.shape[2], X_train.shape[3]\n",
    "\n",
    "X_train = X_train.reshape(-1, image_w, image_h, image_layer)\n",
    "X_test = X_test.reshape(-1, image_w, image_h, image_layer)"
   ]
  },
  {
   "cell_type": "code",
   "execution_count": 8,
   "metadata": {},
   "outputs": [],
   "source": [
    "DataSet_classes = Y_train.shape[1]"
   ]
  },
  {
   "cell_type": "code",
   "execution_count": 9,
   "metadata": {},
   "outputs": [
    {
     "name": "stdout",
     "output_type": "stream",
     "text": [
      "(37800, 50, 50, 3) (4200, 50, 50, 3)\n",
      "(37800, 3) (4200, 3)\n"
     ]
    }
   ],
   "source": [
    "print(X_train.shape, X_test.shape)\n",
    "print(Y_train.shape, Y_test.shape)"
   ]
  },
  {
   "cell_type": "code",
   "execution_count": 10,
   "metadata": {},
   "outputs": [
    {
     "name": "stderr",
     "output_type": "stream",
     "text": [
      "2024-03-14 13:50:19.377563: I tensorflow/core/util/port.cc:113] oneDNN custom operations are on. You may see slightly different numerical results due to floating-point round-off errors from different computation orders. To turn them off, set the environment variable `TF_ENABLE_ONEDNN_OPTS=0`.\n",
      "2024-03-14 13:50:19.633782: E external/local_xla/xla/stream_executor/cuda/cuda_dnn.cc:9261] Unable to register cuDNN factory: Attempting to register factory for plugin cuDNN when one has already been registered\n",
      "2024-03-14 13:50:19.633961: E external/local_xla/xla/stream_executor/cuda/cuda_fft.cc:607] Unable to register cuFFT factory: Attempting to register factory for plugin cuFFT when one has already been registered\n",
      "2024-03-14 13:50:19.677296: E external/local_xla/xla/stream_executor/cuda/cuda_blas.cc:1515] Unable to register cuBLAS factory: Attempting to register factory for plugin cuBLAS when one has already been registered\n",
      "2024-03-14 13:50:19.771176: I tensorflow/core/platform/cpu_feature_guard.cc:182] This TensorFlow binary is optimized to use available CPU instructions in performance-critical operations.\n",
      "To enable the following instructions: AVX2 AVX_VNNI FMA, in other operations, rebuild TensorFlow with the appropriate compiler flags.\n"
     ]
    }
   ],
   "source": [
    "import tensorflow as tf\n",
    "\n",
    "# tf.debugging.set_log_device_placement(True)\n",
    "\n",
    "gpus = tf.config.list_physical_devices('GPU')\n",
    "if gpus: # 텐서플로가 첫 번째 GPU만 사용하도록 제한\n",
    "  try:\n",
    "    tf.config.set_visible_devices(gpus[0], 'GPU')\n",
    "\n",
    "  except RuntimeError as e:\n",
    "    # 프로그램 시작시에 접근 가능한 장치가 설정되어야만 합니다\n",
    "    print(e)"
   ]
  },
  {
   "cell_type": "code",
   "execution_count": 11,
   "metadata": {},
   "outputs": [
    {
     "name": "stderr",
     "output_type": "stream",
     "text": [
      "2024-03-14 13:50:23.220518: I tensorflow/core/common_runtime/gpu/gpu_device.cc:1929] Created device /job:localhost/replica:0/task:0/device:GPU:0 with 4065 MB memory:  -> device: 0, name: NVIDIA GeForce RTX 4050 Laptop GPU, pci bus id: 0000:01:00.0, compute capability: 8.9\n"
     ]
    }
   ],
   "source": [
    "import tensorflow as tf\n",
    "import keras\n",
    "\n",
    "model = keras.applications.VGG16(\n",
    "    include_top=True,\n",
    "    weights=None,\n",
    "    input_shape=(image_w, image_h, image_layer),\n",
    "    pooling=None,\n",
    "    classes=DataSet_classes,\n",
    "    classifier_activation=\"softmax\",\n",
    ")\n"
   ]
  },
  {
   "cell_type": "code",
   "execution_count": 12,
   "metadata": {},
   "outputs": [
    {
     "name": "stdout",
     "output_type": "stream",
     "text": [
      "Model: \"vgg16\"\n",
      "_________________________________________________________________\n",
      " Layer (type)                Output Shape              Param #   \n",
      "=================================================================\n",
      " input_1 (InputLayer)        [(None, 50, 50, 3)]       0         \n",
      "                                                                 \n",
      " block1_conv1 (Conv2D)       (None, 50, 50, 64)        1792      \n",
      "                                                                 \n",
      " block1_conv2 (Conv2D)       (None, 50, 50, 64)        36928     \n",
      "                                                                 \n",
      " block1_pool (MaxPooling2D)  (None, 25, 25, 64)        0         \n",
      "                                                                 \n",
      " block2_conv1 (Conv2D)       (None, 25, 25, 128)       73856     \n",
      "                                                                 \n",
      " block2_conv2 (Conv2D)       (None, 25, 25, 128)       147584    \n",
      "                                                                 \n",
      " block2_pool (MaxPooling2D)  (None, 12, 12, 128)       0         \n",
      "                                                                 \n",
      " block3_conv1 (Conv2D)       (None, 12, 12, 256)       295168    \n",
      "                                                                 \n",
      " block3_conv2 (Conv2D)       (None, 12, 12, 256)       590080    \n",
      "                                                                 \n",
      " block3_conv3 (Conv2D)       (None, 12, 12, 256)       590080    \n",
      "                                                                 \n",
      " block3_pool (MaxPooling2D)  (None, 6, 6, 256)         0         \n",
      "                                                                 \n",
      " block4_conv1 (Conv2D)       (None, 6, 6, 512)         1180160   \n",
      "                                                                 \n",
      " block4_conv2 (Conv2D)       (None, 6, 6, 512)         2359808   \n",
      "                                                                 \n",
      " block4_conv3 (Conv2D)       (None, 6, 6, 512)         2359808   \n",
      "                                                                 \n",
      " block4_pool (MaxPooling2D)  (None, 3, 3, 512)         0         \n",
      "                                                                 \n",
      " block5_conv1 (Conv2D)       (None, 3, 3, 512)         2359808   \n",
      "                                                                 \n",
      " block5_conv2 (Conv2D)       (None, 3, 3, 512)         2359808   \n",
      "                                                                 \n",
      " block5_conv3 (Conv2D)       (None, 3, 3, 512)         2359808   \n",
      "                                                                 \n",
      " block5_pool (MaxPooling2D)  (None, 1, 1, 512)         0         \n",
      "                                                                 \n",
      " flatten (Flatten)           (None, 512)               0         \n",
      "                                                                 \n",
      " fc1 (Dense)                 (None, 4096)              2101248   \n",
      "                                                                 \n",
      " fc2 (Dense)                 (None, 4096)              16781312  \n",
      "                                                                 \n",
      " predictions (Dense)         (None, 3)                 12291     \n",
      "                                                                 \n",
      "=================================================================\n",
      "Total params: 33609539 (128.21 MB)\n",
      "Trainable params: 33609539 (128.21 MB)\n",
      "Non-trainable params: 0 (0.00 Byte)\n",
      "_________________________________________________________________\n"
     ]
    }
   ],
   "source": [
    "model.summary()"
   ]
  },
  {
   "cell_type": "code",
   "execution_count": 13,
   "metadata": {},
   "outputs": [
    {
     "name": "stdout",
     "output_type": "stream",
     "text": [
      "Epoch 1/50\n"
     ]
    },
    {
     "name": "stderr",
     "output_type": "stream",
     "text": [
      "2024-03-14 13:50:25.642272: I external/local_xla/xla/stream_executor/cuda/cuda_dnn.cc:454] Loaded cuDNN version 8907\n",
      "2024-03-14 13:50:25.767823: I external/local_tsl/tsl/platform/default/subprocess.cc:304] Start cannot spawn child process: No such file or directory\n",
      "2024-03-14 13:50:27.059174: I external/local_tsl/tsl/platform/default/subprocess.cc:304] Start cannot spawn child process: No such file or directory\n",
      "2024-03-14 13:50:27.120438: I external/local_xla/xla/service/service.cc:168] XLA service 0x7feef516d740 initialized for platform CUDA (this does not guarantee that XLA will be used). Devices:\n",
      "2024-03-14 13:50:27.120461: I external/local_xla/xla/service/service.cc:176]   StreamExecutor device (0): NVIDIA GeForce RTX 4050 Laptop GPU, Compute Capability 8.9\n",
      "2024-03-14 13:50:27.129550: I tensorflow/compiler/mlir/tensorflow/utils/dump_mlir_util.cc:269] disabling MLIR crash reproducer, set env var `MLIR_CRASH_REPRODUCER_DIRECTORY` to enable.\n",
      "WARNING: All log messages before absl::InitializeLog() is called are written to STDERR\n",
      "I0000 00:00:1710391827.204055  268396 device_compiler.h:186] Compiled cluster using XLA!  This line is logged at most once for the lifetime of the process.\n"
     ]
    },
    {
     "name": "stdout",
     "output_type": "stream",
     "text": [
      "591/591 [==============================] - 43s 62ms/step - loss: nan - accuracy: 0.3322 - val_loss: nan - val_accuracy: 0.3414\n",
      "Epoch 2/50\n",
      "591/591 [==============================] - 34s 58ms/step - loss: nan - accuracy: 0.3324 - val_loss: nan - val_accuracy: 0.3414\n",
      "Epoch 3/50\n",
      "591/591 [==============================] - 34s 58ms/step - loss: nan - accuracy: 0.3324 - val_loss: nan - val_accuracy: 0.3414\n",
      "Epoch 4/50\n",
      "591/591 [==============================] - 34s 58ms/step - loss: nan - accuracy: 0.3324 - val_loss: nan - val_accuracy: 0.3414\n",
      "Epoch 5/50\n",
      "591/591 [==============================] - 34s 58ms/step - loss: nan - accuracy: 0.3324 - val_loss: nan - val_accuracy: 0.3414\n",
      "Epoch 6/50\n",
      "591/591 [==============================] - 34s 58ms/step - loss: nan - accuracy: 0.3324 - val_loss: nan - val_accuracy: 0.3414\n",
      "Epoch 7/50\n",
      "591/591 [==============================] - 34s 58ms/step - loss: nan - accuracy: 0.3324 - val_loss: nan - val_accuracy: 0.3414\n",
      "Epoch 8/50\n",
      "591/591 [==============================] - 34s 58ms/step - loss: nan - accuracy: 0.3324 - val_loss: nan - val_accuracy: 0.3414\n",
      "Epoch 9/50\n",
      "591/591 [==============================] - 34s 58ms/step - loss: nan - accuracy: 0.3324 - val_loss: nan - val_accuracy: 0.3414\n",
      "Epoch 10/50\n",
      "591/591 [==============================] - 34s 58ms/step - loss: nan - accuracy: 0.3324 - val_loss: nan - val_accuracy: 0.3414\n",
      "Epoch 11/50\n",
      "591/591 [==============================] - 34s 58ms/step - loss: nan - accuracy: 0.3324 - val_loss: nan - val_accuracy: 0.3414\n",
      "Epoch 12/50\n",
      "591/591 [==============================] - 34s 58ms/step - loss: nan - accuracy: 0.3324 - val_loss: nan - val_accuracy: 0.3414\n",
      "Epoch 13/50\n",
      "591/591 [==============================] - 34s 58ms/step - loss: nan - accuracy: 0.3324 - val_loss: nan - val_accuracy: 0.3414\n",
      "Epoch 14/50\n",
      "591/591 [==============================] - 34s 58ms/step - loss: nan - accuracy: 0.3324 - val_loss: nan - val_accuracy: 0.3414\n",
      "Epoch 15/50\n",
      "591/591 [==============================] - 34s 58ms/step - loss: nan - accuracy: 0.3324 - val_loss: nan - val_accuracy: 0.3414\n",
      "Epoch 16/50\n",
      "591/591 [==============================] - 34s 58ms/step - loss: nan - accuracy: 0.3324 - val_loss: nan - val_accuracy: 0.3414\n",
      "Epoch 17/50\n",
      "591/591 [==============================] - 34s 58ms/step - loss: nan - accuracy: 0.3324 - val_loss: nan - val_accuracy: 0.3414\n",
      "Epoch 18/50\n",
      "591/591 [==============================] - 34s 58ms/step - loss: nan - accuracy: 0.3324 - val_loss: nan - val_accuracy: 0.3414\n",
      "Epoch 19/50\n",
      "591/591 [==============================] - 34s 58ms/step - loss: nan - accuracy: 0.3324 - val_loss: nan - val_accuracy: 0.3414\n",
      "Epoch 20/50\n",
      "591/591 [==============================] - 34s 58ms/step - loss: nan - accuracy: 0.3324 - val_loss: nan - val_accuracy: 0.3414\n",
      "Epoch 21/50\n",
      "591/591 [==============================] - 34s 58ms/step - loss: nan - accuracy: 0.3324 - val_loss: nan - val_accuracy: 0.3414\n",
      "Epoch 22/50\n",
      "591/591 [==============================] - 34s 58ms/step - loss: nan - accuracy: 0.3324 - val_loss: nan - val_accuracy: 0.3414\n",
      "Epoch 23/50\n",
      "591/591 [==============================] - 34s 58ms/step - loss: nan - accuracy: 0.3324 - val_loss: nan - val_accuracy: 0.3414\n",
      "Epoch 24/50\n",
      "591/591 [==============================] - 34s 58ms/step - loss: nan - accuracy: 0.3324 - val_loss: nan - val_accuracy: 0.3414\n",
      "Epoch 25/50\n",
      "591/591 [==============================] - 34s 58ms/step - loss: nan - accuracy: 0.3324 - val_loss: nan - val_accuracy: 0.3414\n",
      "Epoch 26/50\n",
      "591/591 [==============================] - 34s 58ms/step - loss: nan - accuracy: 0.3324 - val_loss: nan - val_accuracy: 0.3414\n",
      "Epoch 27/50\n",
      "591/591 [==============================] - 34s 58ms/step - loss: nan - accuracy: 0.3324 - val_loss: nan - val_accuracy: 0.3414\n",
      "Epoch 28/50\n",
      "591/591 [==============================] - 34s 58ms/step - loss: nan - accuracy: 0.3324 - val_loss: nan - val_accuracy: 0.3414\n",
      "Epoch 29/50\n",
      "591/591 [==============================] - 34s 58ms/step - loss: nan - accuracy: 0.3324 - val_loss: nan - val_accuracy: 0.3414\n",
      "Epoch 30/50\n",
      "591/591 [==============================] - 34s 58ms/step - loss: nan - accuracy: 0.3324 - val_loss: nan - val_accuracy: 0.3414\n",
      "Epoch 31/50\n",
      "591/591 [==============================] - 34s 58ms/step - loss: nan - accuracy: 0.3324 - val_loss: nan - val_accuracy: 0.3414\n",
      "Epoch 32/50\n",
      "591/591 [==============================] - 34s 58ms/step - loss: nan - accuracy: 0.3324 - val_loss: nan - val_accuracy: 0.3414\n",
      "Epoch 33/50\n",
      "591/591 [==============================] - 34s 58ms/step - loss: nan - accuracy: 0.3324 - val_loss: nan - val_accuracy: 0.3414\n",
      "Epoch 34/50\n",
      "591/591 [==============================] - 34s 58ms/step - loss: nan - accuracy: 0.3324 - val_loss: nan - val_accuracy: 0.3414\n",
      "Epoch 35/50\n",
      "591/591 [==============================] - 34s 58ms/step - loss: nan - accuracy: 0.3324 - val_loss: nan - val_accuracy: 0.3414\n",
      "Epoch 36/50\n",
      "591/591 [==============================] - 34s 58ms/step - loss: nan - accuracy: 0.3324 - val_loss: nan - val_accuracy: 0.3414\n",
      "Epoch 37/50\n",
      "591/591 [==============================] - 34s 58ms/step - loss: nan - accuracy: 0.3324 - val_loss: nan - val_accuracy: 0.3414\n",
      "Epoch 38/50\n",
      "591/591 [==============================] - 34s 58ms/step - loss: nan - accuracy: 0.3324 - val_loss: nan - val_accuracy: 0.3414\n",
      "Epoch 39/50\n",
      "591/591 [==============================] - 34s 58ms/step - loss: nan - accuracy: 0.3324 - val_loss: nan - val_accuracy: 0.3414\n",
      "Epoch 40/50\n",
      "591/591 [==============================] - 34s 58ms/step - loss: nan - accuracy: 0.3324 - val_loss: nan - val_accuracy: 0.3414\n",
      "Epoch 41/50\n",
      "591/591 [==============================] - 34s 58ms/step - loss: nan - accuracy: 0.3324 - val_loss: nan - val_accuracy: 0.3414\n",
      "Epoch 42/50\n",
      "591/591 [==============================] - 34s 58ms/step - loss: nan - accuracy: 0.3324 - val_loss: nan - val_accuracy: 0.3414\n",
      "Epoch 43/50\n",
      "591/591 [==============================] - 34s 58ms/step - loss: nan - accuracy: 0.3324 - val_loss: nan - val_accuracy: 0.3414\n",
      "Epoch 44/50\n",
      "591/591 [==============================] - 34s 58ms/step - loss: nan - accuracy: 0.3324 - val_loss: nan - val_accuracy: 0.3414\n",
      "Epoch 45/50\n",
      "591/591 [==============================] - 35s 58ms/step - loss: nan - accuracy: 0.3324 - val_loss: nan - val_accuracy: 0.3414\n",
      "Epoch 46/50\n",
      "591/591 [==============================] - 34s 58ms/step - loss: nan - accuracy: 0.3324 - val_loss: nan - val_accuracy: 0.3414\n",
      "Epoch 47/50\n",
      "591/591 [==============================] - 34s 58ms/step - loss: nan - accuracy: 0.3324 - val_loss: nan - val_accuracy: 0.3414\n",
      "Epoch 48/50\n",
      "591/591 [==============================] - 34s 58ms/step - loss: nan - accuracy: 0.3324 - val_loss: nan - val_accuracy: 0.3414\n",
      "Epoch 49/50\n",
      "591/591 [==============================] - 34s 58ms/step - loss: nan - accuracy: 0.3324 - val_loss: nan - val_accuracy: 0.3414\n",
      "Epoch 50/50\n",
      "591/591 [==============================] - 34s 58ms/step - loss: nan - accuracy: 0.3324 - val_loss: nan - val_accuracy: 0.3414\n"
     ]
    }
   ],
   "source": [
    "import tensorflow as tf\n",
    "batch_size = 64\n",
    "epochs = 50\n",
    "\n",
    "model.compile(\n",
    "    loss=\"categorical_crossentropy\", \n",
    "    optimizer=tf.keras.optimizers.Adam(0.001), \n",
    "    metrics=[\"accuracy\"]\n",
    ")\n",
    "\n",
    "history = model.fit(\n",
    "    X_train, Y_train, \n",
    "    batch_size=batch_size, \n",
    "    epochs=epochs, \n",
    "    validation_data=(X_test, Y_test)\n",
    ")"
   ]
  },
  {
   "cell_type": "code",
   "execution_count": 14,
   "metadata": {},
   "outputs": [
    {
     "data": {
      "image/png": "[encoded data removed]",
      "text/plain": [
       "<Figure size 640x480 with 1 Axes>"
      ]
     },
     "metadata": {},
     "output_type": "display_data"
    }
   ],
   "source": [
    "import matplotlib.pyplot as plt\n",
    "\n",
    "plt.plot(history.history[\"loss\"], label=\"loss\")\n",
    "plt.plot(history.history[\"val_loss\"], label=\"val_loss\")\n",
    "plt.plot(history.history[\"accuracy\"], label=\"accuracy\")\n",
    "plt.plot(history.history[\"val_accuracy\"], label=\"val_accuracy\")\n",
    "plt.legend()\n",
    "plt.show()"
   ]
  },
  {
   "cell_type": "code",
   "execution_count": 15,
   "metadata": {},
   "outputs": [
    {
     "name": "stderr",
     "output_type": "stream",
     "text": [
      "/usr/local/lib/python3.11/dist-packages/keras/src/engine/training.py:3103: UserWarning: You are saving your model as an HDF5 file via `model.save()`. This file format is considered legacy. We recommend using instead the native Keras format, e.g. `model.save('my_model.keras')`.\n",
      "  saving_api.save_model(\n"
     ]
    }
   ],
   "source": [
    "model.save('../../model/VGG16.h5')"
   ]
  }
 ],
 "metadata": {
  "kernelspec": {
   "display_name": "Python 3",
   "language": "python",
   "name": "python3"
  },
  "language_info": {
   "codemirror_mode": {
    "name": "ipython",
    "version": 3
   },
   "file_extension": ".py",
   "mimetype": "text/x-python",
   "name": "python",
   "nbconvert_exporter": "python",
   "pygments_lexer": "ipython3",
   "version": "3.11.0"
  }
 },
 "nbformat": 4,
 "nbformat_minor": 2
}
