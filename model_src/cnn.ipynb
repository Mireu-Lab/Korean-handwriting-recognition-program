{
 "cells": [
  {
   "cell_type": "code",
   "execution_count": 4,
   "metadata": {},
   "outputs": [],
   "source": [
    "from PIL import Image\n",
    "import numpy as np\n",
    "import os\n",
    "\n",
    "layerList = [\"가\", \"나\", \"다\", \"라\", \"마\", \"바\", \"아\", \"자\", \"차\", \"카\", \"타\", \"파\", \"하\"]\n",
    "\n",
    "all_x_array = []\n",
    "all_y_array = []\n",
    "\n",
    "for dir in layerList:\n",
    "    fileList = os.listdir(f\"../dataset_dir/new_image/{dir}\")\n",
    "\n",
    "    for file in fileList:\n",
    "        y_array = dict.fromkeys(layerList, 0) # 12000개의 str 값을 0으로 초기화하는 dict 생성\n",
    "\n",
    "        imageData = Image.open(f\"\"\"../dataset_dir/new_image/{dir}/{file}\"\"\").convert(\"L\") # 이미지 tensor 데이터 출력\n",
    "        imageData = imageData.resize((50, 50)) # 이미지 업스케일링\n",
    "\n",
    "        imageData = np.array(imageData)\n",
    "        all_x_array.append(imageData.tolist())\n",
    "\n",
    "        y_array[dir] = 1 # 사용자가 지정한 str 값을 1로 변경\n",
    "        y_array = list(y_array.values())\n",
    "        all_y_array.append(y_array)\n"
   ]
  },
  {
   "cell_type": "code",
   "execution_count": 5,
   "metadata": {},
   "outputs": [],
   "source": [
    "x_array = np.array(all_x_array)\n",
    "y_array = np.array(all_y_array)"
   ]
  },
  {
   "cell_type": "code",
   "execution_count": 6,
   "metadata": {},
   "outputs": [
    {
     "name": "stdout",
     "output_type": "stream",
     "text": [
      "(794, 50, 50)\n",
      "(794, 13)\n"
     ]
    }
   ],
   "source": [
    "print(x_array.shape)\n",
    "print(y_array.shape)"
   ]
  },
  {
   "cell_type": "code",
   "execution_count": 7,
   "metadata": {},
   "outputs": [],
   "source": [
    "from sklearn.model_selection import train_test_split\n",
    "\n",
    "X_train, X_test, Y_train, Y_test = train_test_split(\n",
    "    x_array, y_array, test_size=0.2, shuffle=False, random_state=1004\n",
    ")"
   ]
  },
  {
   "cell_type": "code",
   "execution_count": 8,
   "metadata": {},
   "outputs": [],
   "source": [
    "X_train = X_train.astype(\"float32\") / 255\n",
    "Y_train = Y_train.astype(\"float32\") / 255\n",
    "\n",
    "X_test = X_test.astype(\"float32\") / 255\n",
    "Y_test = Y_test.astype(\"float32\") / 255"
   ]
  },
  {
   "cell_type": "code",
   "execution_count": 9,
   "metadata": {},
   "outputs": [
    {
     "name": "stdout",
     "output_type": "stream",
     "text": [
      "(635, 50, 50)\n",
      "(159, 50, 50)\n",
      "(635, 13)\n",
      "(159, 13)\n"
     ]
    }
   ],
   "source": [
    "print(X_train.shape)\n",
    "print(X_test.shape)\n",
    "\n",
    "print(Y_train.shape)\n",
    "print(Y_test.shape)"
   ]
  },
  {
   "cell_type": "code",
   "execution_count": 10,
   "metadata": {},
   "outputs": [
    {
     "data": {
      "text/plain": [
       "11"
      ]
     },
     "execution_count": 10,
     "metadata": {},
     "output_type": "execute_result"
    }
   ],
   "source": [
    "u = np.unique(Y_train, axis=0)\n",
    "len(u)"
   ]
  },
  {
   "cell_type": "code",
   "execution_count": 11,
   "metadata": {},
   "outputs": [
    {
     "name": "stderr",
     "output_type": "stream",
     "text": [
      "2024-02-26 17:07:57.367515: I tensorflow/core/util/port.cc:113] oneDNN custom operations are on. You may see slightly different numerical results due to floating-point round-off errors from different computation orders. To turn them off, set the environment variable `TF_ENABLE_ONEDNN_OPTS=0`.\n",
      "2024-02-26 17:07:57.419059: E external/local_xla/xla/stream_executor/cuda/cuda_dnn.cc:9261] Unable to register cuDNN factory: Attempting to register factory for plugin cuDNN when one has already been registered\n",
      "2024-02-26 17:07:57.419110: E external/local_xla/xla/stream_executor/cuda/cuda_fft.cc:607] Unable to register cuFFT factory: Attempting to register factory for plugin cuFFT when one has already been registered\n",
      "2024-02-26 17:07:57.420302: E external/local_xla/xla/stream_executor/cuda/cuda_blas.cc:1515] Unable to register cuBLAS factory: Attempting to register factory for plugin cuBLAS when one has already been registered\n",
      "2024-02-26 17:07:57.426191: I tensorflow/core/platform/cpu_feature_guard.cc:182] This TensorFlow binary is optimized to use available CPU instructions in performance-critical operations.\n",
      "To enable the following instructions: AVX2 AVX_VNNI FMA, in other operations, rebuild TensorFlow with the appropriate compiler flags.\n",
      "2024-02-26 17:08:01.273169: E external/local_xla/xla/stream_executor/cuda/cuda_driver.cc:274] failed call to cuInit: CUDA_ERROR_COMPAT_NOT_SUPPORTED_ON_DEVICE: forward compatibility was attempted on non supported HW\n",
      "2024-02-26 17:08:01.273223: I external/local_xla/xla/stream_executor/cuda/cuda_diagnostics.cc:129] retrieving CUDA diagnostic information for host: be111ba2086c\n",
      "2024-02-26 17:08:01.273235: I external/local_xla/xla/stream_executor/cuda/cuda_diagnostics.cc:136] hostname: be111ba2086c\n",
      "2024-02-26 17:08:01.273377: I external/local_xla/xla/stream_executor/cuda/cuda_diagnostics.cc:159] libcuda reported version is: 545.23.8\n",
      "2024-02-26 17:08:01.273420: I external/local_xla/xla/stream_executor/cuda/cuda_diagnostics.cc:163] kernel reported version is: 535.154.5\n",
      "2024-02-26 17:08:01.273434: E external/local_xla/xla/stream_executor/cuda/cuda_diagnostics.cc:244] kernel version 535.154.5 does not match DSO version 545.23.8 -- cannot find working devices in this configuration\n"
     ]
    }
   ],
   "source": [
    "import tensorflow as tf\n",
    "import keras\n",
    "\n",
    "model = keras.Sequential([\n",
    "    keras.Input(shape=(50, 50, 1)),\n",
    "    keras.layers.Conv2D(32, (4, 4), activation='relu'),\n",
    "    keras.layers.MaxPooling2D((2, 2)),\n",
    "    keras.layers.Conv2D(64, (3, 3), activation='relu'),\n",
    "    keras.layers.MaxPooling2D((2, 2)),\n",
    "    keras.layers.Flatten(),\n",
    "    keras.layers.Dense(128, activation='relu'),\n",
    "    keras.layers.Dropout(0.2),\n",
    "    keras.layers.Dense(13, activation=\"softmax\"),\n",
    "])"
   ]
  },
  {
   "cell_type": "code",
   "execution_count": 12,
   "metadata": {},
   "outputs": [
    {
     "name": "stdout",
     "output_type": "stream",
     "text": [
      "Model: \"sequential\"\n",
      "_________________________________________________________________\n",
      " Layer (type)                Output Shape              Param #   \n",
      "=================================================================\n",
      " conv2d (Conv2D)             (None, 47, 47, 32)        544       \n",
      "                                                                 \n",
      " max_pooling2d (MaxPooling2  (None, 23, 23, 32)        0         \n",
      " D)                                                              \n",
      "                                                                 \n",
      " conv2d_1 (Conv2D)           (None, 21, 21, 64)        18496     \n",
      "                                                                 \n",
      " max_pooling2d_1 (MaxPoolin  (None, 10, 10, 64)        0         \n",
      " g2D)                                                            \n",
      "                                                                 \n",
      " flatten (Flatten)           (None, 6400)              0         \n",
      "                                                                 \n",
      " dense (Dense)               (None, 128)               819328    \n",
      "                                                                 \n",
      " dropout (Dropout)           (None, 128)               0         \n",
      "                                                                 \n",
      " dense_1 (Dense)             (None, 13)                1677      \n",
      "                                                                 \n",
      "=================================================================\n",
      "Total params: 840045 (3.20 MB)\n",
      "Trainable params: 840045 (3.20 MB)\n",
      "Non-trainable params: 0 (0.00 Byte)\n",
      "_________________________________________________________________\n"
     ]
    }
   ],
   "source": [
    "model.summary()"
   ]
  },
  {
   "cell_type": "code",
   "execution_count": 15,
   "metadata": {},
   "outputs": [
    {
     "name": "stdout",
     "output_type": "stream",
     "text": [
      "Epoch 1/15\n",
      "5/5 [==============================] - 1s 86ms/step - loss: 18131.7129 - accuracy: 0.0693 - val_loss: 2567.9487 - val_accuracy: 0.0000e+00\n",
      "Epoch 2/15\n",
      "5/5 [==============================] - 0s 72ms/step - loss: 17834.6484 - accuracy: 0.0724 - val_loss: 2638.2429 - val_accuracy: 0.0000e+00\n",
      "Epoch 3/15\n",
      "5/5 [==============================] - 0s 79ms/step - loss: 17761.8887 - accuracy: 0.0614 - val_loss: 2379.5215 - val_accuracy: 0.0000e+00\n",
      "Epoch 4/15\n",
      "5/5 [==============================] - 0s 83ms/step - loss: 18090.5645 - accuracy: 0.0709 - val_loss: 2186.7141 - val_accuracy: 0.0000e+00\n",
      "Epoch 5/15\n",
      "5/5 [==============================] - 0s 83ms/step - loss: 18007.2930 - accuracy: 0.0819 - val_loss: 2168.2664 - val_accuracy: 0.0000e+00\n",
      "Epoch 6/15\n",
      "5/5 [==============================] - 0s 84ms/step - loss: 18667.5645 - accuracy: 0.0693 - val_loss: 1804.4877 - val_accuracy: 0.0000e+00\n",
      "Epoch 7/15\n",
      "5/5 [==============================] - 0s 68ms/step - loss: 19573.8828 - accuracy: 0.0740 - val_loss: 1794.7806 - val_accuracy: 0.0000e+00\n",
      "Epoch 8/15\n",
      "5/5 [==============================] - 0s 78ms/step - loss: 18788.2637 - accuracy: 0.0882 - val_loss: 1918.0002 - val_accuracy: 0.0000e+00\n",
      "Epoch 9/15\n",
      "5/5 [==============================] - 0s 70ms/step - loss: 19124.8359 - accuracy: 0.0803 - val_loss: 2268.0034 - val_accuracy: 0.0000e+00\n",
      "Epoch 10/15\n",
      "5/5 [==============================] - 0s 72ms/step - loss: 19168.6543 - accuracy: 0.0913 - val_loss: 2379.8223 - val_accuracy: 0.0000e+00\n",
      "Epoch 11/15\n",
      "5/5 [==============================] - 0s 68ms/step - loss: 20791.6035 - accuracy: 0.0661 - val_loss: 2119.2610 - val_accuracy: 0.0000e+00\n",
      "Epoch 12/15\n",
      "5/5 [==============================] - 0s 94ms/step - loss: 19538.9277 - accuracy: 0.0693 - val_loss: 1778.7542 - val_accuracy: 0.0000e+00\n",
      "Epoch 13/15\n",
      "5/5 [==============================] - 0s 84ms/step - loss: 21751.9199 - accuracy: 0.0488 - val_loss: 1713.6099 - val_accuracy: 0.0000e+00\n",
      "Epoch 14/15\n",
      "5/5 [==============================] - 0s 85ms/step - loss: 21235.7930 - accuracy: 0.0724 - val_loss: 1989.1185 - val_accuracy: 0.0000e+00\n",
      "Epoch 15/15\n",
      "5/5 [==============================] - 0s 69ms/step - loss: 20934.8574 - accuracy: 0.0724 - val_loss: 2325.5781 - val_accuracy: 0.0000e+00\n"
     ]
    },
    {
     "data": {
      "text/plain": [
       "<keras.src.callbacks.History at 0x7efc3c3c4d10>"
      ]
     },
     "execution_count": 15,
     "metadata": {},
     "output_type": "execute_result"
    }
   ],
   "source": [
    "batch_size = 128\n",
    "epochs = 15\n",
    "\n",
    "model.compile(loss=\"categorical_crossentropy\", optimizer=keras.optimizers.Adam(0.001), metrics=[\"accuracy\"])\n",
    "\n",
    "model.fit(X_train, Y_train, batch_size=batch_size, epochs=epochs, validation_data=(X_test, Y_test))"
   ]
  }
 ],
 "metadata": {
  "kernelspec": {
   "display_name": "Python 3",
   "language": "python",
   "name": "python3"
  },
  "language_info": {
   "codemirror_mode": {
    "name": "ipython",
    "version": 3
   },
   "file_extension": ".py",
   "mimetype": "text/x-python",
   "name": "python",
   "nbconvert_exporter": "python",
   "pygments_lexer": "ipython3",
   "version": "3.11.0"
  }
 },
 "nbformat": 4,
 "nbformat_minor": 2
}
