{
 "cells": [
  {
   "cell_type": "code",
   "execution_count": 1,
   "metadata": {},
   "outputs": [],
   "source": [
    "from PIL import Image\n",
    "import numpy as np\n",
    "import os\n",
    "\n",
    "layerList = [\"가\", \"나\", \"다\", \"라\", \"마\", \"바\", \"아\", \"자\", \"차\", \"카\", \"타\", \"파\", \"하\"]\n",
    "\n",
    "all_x_array = []\n",
    "all_y_array = []\n",
    "\n",
    "for dir in layerList:\n",
    "    fileList = os.listdir(f\"../dataset_dir/new_image/{dir}\")\n",
    "\n",
    "    for file in fileList:\n",
    "        y_array = dict.fromkeys(layerList, 0) # 12000개의 str 값을 0으로 초기화하는 dict 생성\n",
    "\n",
    "        imageData = Image.open(f\"\"\"../dataset_dir/new_image/{dir}/{file}\"\"\").convert(\"L\") # 이미지 tensor 데이터 출력\n",
    "        imageData = imageData.resize((50, 50)) # 이미지 업스케일링\n",
    "\n",
    "        imageData = np.array(imageData)\n",
    "        all_x_array.append(imageData.tolist())\n",
    "\n",
    "        y_array[dir] = 1 # 사용자가 지정한 str 값을 1로 변경\n",
    "        y_array = list(y_array.values())\n",
    "        all_y_array.append(y_array)\n"
   ]
  },
  {
   "cell_type": "code",
   "execution_count": 2,
   "metadata": {},
   "outputs": [],
   "source": [
    "x_array = np.array(all_x_array)\n",
    "y_array = np.array(all_y_array)"
   ]
  },
  {
   "cell_type": "code",
   "execution_count": 3,
   "metadata": {},
   "outputs": [
    {
     "name": "stdout",
     "output_type": "stream",
     "text": [
      "(80988, 50, 50) (80988, 13)\n"
     ]
    }
   ],
   "source": [
    "print(x_array.shape, y_array.shape)"
   ]
  },
  {
   "cell_type": "code",
   "execution_count": 4,
   "metadata": {},
   "outputs": [],
   "source": [
    "from sklearn.model_selection import train_test_split\n",
    "\n",
    "X_train, X_test, Y_train, Y_test = train_test_split(\n",
    "    x_array, y_array, test_size=0.2, shuffle=False, random_state=1004\n",
    ")"
   ]
  },
  {
   "cell_type": "code",
   "execution_count": 5,
   "metadata": {},
   "outputs": [],
   "source": [
    "X_train = X_train.astype(\"float32\") / 255\n",
    "Y_train = Y_train.astype(\"float32\") / 255\n",
    "\n",
    "X_test = X_test.astype(\"float32\") / 255\n",
    "Y_test = Y_test.astype(\"float32\") / 255"
   ]
  },
  {
   "cell_type": "code",
   "execution_count": 6,
   "metadata": {},
   "outputs": [
    {
     "name": "stdout",
     "output_type": "stream",
     "text": [
      "(64790, 50, 50) (16198, 50, 50)\n",
      "(64790, 13) (16198, 13)\n"
     ]
    }
   ],
   "source": [
    "print(X_train.shape, X_test.shape)\n",
    "print(Y_train.shape, Y_test.shape)"
   ]
  },
  {
   "cell_type": "code",
   "execution_count": 7,
   "metadata": {},
   "outputs": [],
   "source": [
    "import os\n",
    "os.environ[\"CUDA_VISIBLE_DEVICES\"] = \"-1\""
   ]
  },
  {
   "cell_type": "code",
   "execution_count": 9,
   "metadata": {},
   "outputs": [],
   "source": [
    "import tensorflow as tf\n",
    "import keras\n",
    "\n",
    "model = keras.Sequential([\n",
    "    keras.Input(shape=(50, 50, 1)),\n",
    "    keras.layers.Conv2D(32, (5, 5), activation='relu'),\n",
    "    keras.layers.MaxPooling2D((3, 3)),\n",
    "    keras.layers.Conv2D(64, (3, 3), activation='relu'),\n",
    "    keras.layers.MaxPooling2D((2, 2)),\n",
    "    # keras.layers.Conv2D(64, (3, 3), activation='relu'),\n",
    "    # keras.layers.MaxPooling2D((2, 2)),\n",
    "    # keras.layers.Conv2D(32, (3, 3), activation='relu'),\n",
    "    # keras.layers.MaxPooling2D((2, 2)),\n",
    "    keras.layers.Flatten(),\n",
    "    keras.layers.Dense(128, activation='relu'),\n",
    "    keras.layers.Dropout(0.2),\n",
    "    keras.layers.Dense(13, activation=\"softmax\"),\n",
    "])"
   ]
  },
  {
   "cell_type": "code",
   "execution_count": 10,
   "metadata": {},
   "outputs": [
    {
     "name": "stdout",
     "output_type": "stream",
     "text": [
      "Model: \"sequential_1\"\n",
      "_________________________________________________________________\n",
      " Layer (type)                Output Shape              Param #   \n",
      "=================================================================\n",
      " conv2d_4 (Conv2D)           (None, 46, 46, 32)        832       \n",
      "                                                                 \n",
      " max_pooling2d_4 (MaxPoolin  (None, 15, 15, 32)        0         \n",
      " g2D)                                                            \n",
      "                                                                 \n",
      " conv2d_5 (Conv2D)           (None, 13, 13, 64)        18496     \n",
      "                                                                 \n",
      " max_pooling2d_5 (MaxPoolin  (None, 6, 6, 64)          0         \n",
      " g2D)                                                            \n",
      "                                                                 \n",
      " flatten_1 (Flatten)         (None, 2304)              0         \n",
      "                                                                 \n",
      " dense_2 (Dense)             (None, 128)               295040    \n",
      "                                                                 \n",
      " dropout_1 (Dropout)         (None, 128)               0         \n",
      "                                                                 \n",
      " dense_3 (Dense)             (None, 13)                1677      \n",
      "                                                                 \n",
      "=================================================================\n",
      "Total params: 316045 (1.21 MB)\n",
      "Trainable params: 316045 (1.21 MB)\n",
      "Non-trainable params: 0 (0.00 Byte)\n",
      "_________________________________________________________________\n"
     ]
    }
   ],
   "source": [
    "model.summary()"
   ]
  },
  {
   "cell_type": "code",
   "execution_count": 11,
   "metadata": {},
   "outputs": [
    {
     "name": "stdout",
     "output_type": "stream",
     "text": [
      "Epoch 1/20\n",
      "507/507 [==============================] - 26s 50ms/step - loss: 1268930.7500 - accuracy: 0.0784 - val_loss: 5083637.5000 - val_accuracy: 0.0000e+00\n",
      "Epoch 2/20\n",
      "507/507 [==============================] - 20s 39ms/step - loss: 36789952.0000 - accuracy: 0.0772 - val_loss: 157941872.0000 - val_accuracy: 0.0000e+00\n",
      "Epoch 3/20\n",
      "304/507 [================>.............] - ETA: 8s - loss: 126625616.0000 - accuracy: 0.0802"
     ]
    }
   ],
   "source": [
    "batch_size = 128\n",
    "epochs = 20\n",
    "\n",
    "model.compile(loss=\"categorical_crossentropy\", optimizer=keras.optimizers.Adam(0.01), metrics=[\"accuracy\"])\n",
    "\n",
    "history = model.fit(X_train, Y_train, batch_size=batch_size, epochs=epochs, validation_data=(X_test, Y_test))"
   ]
  }
 ],
 "metadata": {
  "kernelspec": {
   "display_name": "Python 3",
   "language": "python",
   "name": "python3"
  },
  "language_info": {
   "codemirror_mode": {
    "name": "ipython",
    "version": 3
   },
   "file_extension": ".py",
   "mimetype": "text/x-python",
   "name": "python",
   "nbconvert_exporter": "python",
   "pygments_lexer": "ipython3",
   "version": "3.8.10"
  }
 },
 "nbformat": 4,
 "nbformat_minor": 2
}
