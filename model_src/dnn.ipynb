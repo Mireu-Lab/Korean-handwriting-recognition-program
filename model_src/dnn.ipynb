{
 "cells": [
  {
   "cell_type": "code",
   "execution_count": 1,
   "metadata": {},
   "outputs": [],
   "source": [
    "import numpy as np\n",
    "import os\n",
    "\n",
    "layerList = [\"가\", \"나\", \"다\", \"라\", \"마\", \"바\", \"아\", \"자\", \"차\", \"카\", \"타\", \"파\", \"하\"]\n",
    "\n",
    "all_x_array = []\n",
    "all_y_array = []\n",
    "\n",
    "for dir in layerList:\n",
    "    fileList = os.listdir(f\"../dataset_dir/image_npy(50x50)/image_npy/{dir}\")\n",
    "\n",
    "    for file in fileList:\n",
    "        y_array = dict.fromkeys(layerList, 0) # 12000개의 str 값을 0으로 초기화하는 dict 생성\n",
    "\n",
    "        if file[-8:-4] == \"data\":\n",
    "            x_array = np.load(f\"../dataset_dir/image_npy(50x50)/image_npy/{dir}/{file}\")\n",
    "            all_x_array.append(x_array.tolist())\n",
    "\n",
    "            y_array[dir] = 1 # 사용자가 지정한 str 값을 1로 변경\n",
    "            y_array = list(y_array.values())\n",
    "            all_y_array.append(y_array)\n"
   ]
  },
  {
   "cell_type": "code",
   "execution_count": 2,
   "metadata": {},
   "outputs": [],
   "source": [
    "x_array = np.array(all_x_array)\n",
    "y_array = np.array(all_y_array)"
   ]
  },
  {
   "cell_type": "code",
   "execution_count": 3,
   "metadata": {},
   "outputs": [
    {
     "name": "stdout",
     "output_type": "stream",
     "text": [
      "(794, 2500)\n",
      "(794, 13)\n"
     ]
    }
   ],
   "source": [
    "print(x_array.shape)\n",
    "print(y_array.shape)"
   ]
  },
  {
   "cell_type": "code",
   "execution_count": 4,
   "metadata": {},
   "outputs": [],
   "source": [
    "from sklearn.model_selection import train_test_split\n",
    "\n",
    "X_train, X_test, Y_train, Y_test = train_test_split(\n",
    "    x_array, y_array, test_size=0.2, shuffle=False, random_state=1004\n",
    ")"
   ]
  },
  {
   "cell_type": "code",
   "execution_count": 5,
   "metadata": {},
   "outputs": [
    {
     "name": "stdout",
     "output_type": "stream",
     "text": [
      "(635, 2500)\n",
      "(159, 2500)\n",
      "(635, 13)\n",
      "(159, 13)\n"
     ]
    }
   ],
   "source": [
    "print(X_train.shape)\n",
    "print(X_test.shape)\n",
    "\n",
    "print(Y_train.shape)\n",
    "print(Y_test.shape)"
   ]
  },
  {
   "cell_type": "code",
   "execution_count": 6,
   "metadata": {},
   "outputs": [
    {
     "data": {
      "text/plain": [
       "11"
      ]
     },
     "execution_count": 6,
     "metadata": {},
     "output_type": "execute_result"
    }
   ],
   "source": [
    "u = np.unique(Y_train, axis=0)\n",
    "len(u)"
   ]
  },
  {
   "cell_type": "code",
   "execution_count": 7,
   "metadata": {},
   "outputs": [
    {
     "name": "stderr",
     "output_type": "stream",
     "text": [
      "2024-02-24 13:59:46.299931: E external/local_xla/xla/stream_executor/cuda/cuda_dnn.cc:9261] Unable to register cuDNN factory: Attempting to register factory for plugin cuDNN when one has already been registered\n",
      "2024-02-24 13:59:46.299960: E external/local_xla/xla/stream_executor/cuda/cuda_fft.cc:607] Unable to register cuFFT factory: Attempting to register factory for plugin cuFFT when one has already been registered\n",
      "2024-02-24 13:59:46.300686: E external/local_xla/xla/stream_executor/cuda/cuda_blas.cc:1515] Unable to register cuBLAS factory: Attempting to register factory for plugin cuBLAS when one has already been registered\n",
      "2024-02-24 13:59:46.304967: I tensorflow/core/platform/cpu_feature_guard.cc:182] This TensorFlow binary is optimized to use available CPU instructions in performance-critical operations.\n",
      "To enable the following instructions: AVX2 FMA, in other operations, rebuild TensorFlow with the appropriate compiler flags.\n",
      "2024-02-24 13:59:47.627473: E external/local_xla/xla/stream_executor/cuda/cuda_driver.cc:274] failed call to cuInit: UNKNOWN ERROR (34)\n"
     ]
    }
   ],
   "source": [
    "import tensorflow as tf\n",
    "import keras\n",
    "\n",
    "model = keras.Sequential([\n",
    "    keras.Input(shape=(2500, )),\n",
    "    # keras.layers.Dense(1250, activation='relu'),\n",
    "    # keras.layers.Dense(625, activation='relu'),\n",
    "    keras.layers.Dropout(0.3),\n",
    "    keras.layers.Dense(512, activation='relu'),\n",
    "    # keras.layers.Dense(156, activation='relu'),\n",
    "    # keras.layers.Dense(78, activation='relu'),\n",
    "    keras.layers.Dropout(0.3),\n",
    "    keras.layers.Dense(64, activation='relu'),\n",
    "    # keras.layers.Dense(19, activation='relu'),\n",
    "    keras.layers.Dropout(0.4),\n",
    "    keras.layers.Dense(13, activation='softmax'),\n",
    "])"
   ]
  },
  {
   "cell_type": "code",
   "execution_count": 8,
   "metadata": {},
   "outputs": [
    {
     "name": "stdout",
     "output_type": "stream",
     "text": [
      "Model: \"sequential\"\n",
      "_________________________________________________________________\n",
      " Layer (type)                Output Shape              Param #   \n",
      "=================================================================\n",
      " dropout (Dropout)           (None, 2500)              0         \n",
      "                                                                 \n",
      " dense (Dense)               (None, 512)               1280512   \n",
      "                                                                 \n",
      " dropout_1 (Dropout)         (None, 512)               0         \n",
      "                                                                 \n",
      " dense_1 (Dense)             (None, 64)                32832     \n",
      "                                                                 \n",
      " dropout_2 (Dropout)         (None, 64)                0         \n",
      "                                                                 \n",
      " dense_2 (Dense)             (None, 13)                845       \n",
      "                                                                 \n",
      "=================================================================\n",
      "Total params: 1314189 (5.01 MB)\n",
      "Trainable params: 1314189 (5.01 MB)\n",
      "Non-trainable params: 0 (0.00 Byte)\n",
      "_________________________________________________________________\n"
     ]
    }
   ],
   "source": [
    "model.summary()"
   ]
  },
  {
   "cell_type": "code",
   "execution_count": 14,
   "metadata": {},
   "outputs": [
    {
     "name": "stdout",
     "output_type": "stream",
     "text": [
      "Epoch 1/5\n",
      "3/3 [==============================] - 0s 56ms/step - loss: 2.3912 - accuracy: 0.1071 - val_loss: 4.3026 - val_accuracy: 0.0000e+00\n",
      "Epoch 2/5\n",
      "3/3 [==============================] - 0s 13ms/step - loss: 2.3905 - accuracy: 0.1071 - val_loss: 4.3169 - val_accuracy: 0.0000e+00\n",
      "Epoch 3/5\n",
      "3/3 [==============================] - 0s 13ms/step - loss: 2.3902 - accuracy: 0.1071 - val_loss: 4.3308 - val_accuracy: 0.0000e+00\n",
      "Epoch 4/5\n",
      "3/3 [==============================] - 0s 13ms/step - loss: 2.3899 - accuracy: 0.1071 - val_loss: 4.3448 - val_accuracy: 0.0000e+00\n",
      "Epoch 5/5\n",
      "3/3 [==============================] - 0s 13ms/step - loss: 2.3896 - accuracy: 0.1071 - val_loss: 4.3584 - val_accuracy: 0.0000e+00\n"
     ]
    },
    {
     "data": {
      "text/plain": [
       "<keras.src.callbacks.History at 0x7f91705359d0>"
      ]
     },
     "execution_count": 14,
     "metadata": {},
     "output_type": "execute_result"
    }
   ],
   "source": [
    "batch_size = 256\n",
    "epochs = 5\n",
    "\n",
    "model.compile(loss=\"categorical_crossentropy\", optimizer=keras.optimizers.Adam(0.005), metrics=[\"accuracy\"])\n",
    "\n",
    "model.fit(X_train, Y_train, batch_size=batch_size, epochs=epochs, validation_data=(X_test, Y_test))"
   ]
  }
 ],
 "metadata": {
  "kernelspec": {
   "display_name": "Python 3",
   "language": "python",
   "name": "python3"
  },
  "language_info": {
   "codemirror_mode": {
    "name": "ipython",
    "version": 3
   },
   "file_extension": ".py",
   "mimetype": "text/x-python",
   "name": "python",
   "nbconvert_exporter": "python",
   "pygments_lexer": "ipython3",
   "version": "3.11.0rc1"
  }
 },
 "nbformat": 4,
 "nbformat_minor": 2
}
