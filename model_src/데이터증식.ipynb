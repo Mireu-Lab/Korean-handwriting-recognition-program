{
 "cells": [
  {
   "cell_type": "code",
   "execution_count": 1,
   "metadata": {},
   "outputs": [
    {
     "name": "stderr",
     "output_type": "stream",
     "text": [
      "2024-02-27 13:46:59.910525: I tensorflow/core/util/port.cc:113] oneDNN custom operations are on. You may see slightly different numerical results due to floating-point round-off errors from different computation orders. To turn them off, set the environment variable `TF_ENABLE_ONEDNN_OPTS=0`.\n",
      "2024-02-27 13:46:59.939792: E external/local_xla/xla/stream_executor/cuda/cuda_dnn.cc:9261] Unable to register cuDNN factory: Attempting to register factory for plugin cuDNN when one has already been registered\n",
      "2024-02-27 13:46:59.939825: E external/local_xla/xla/stream_executor/cuda/cuda_fft.cc:607] Unable to register cuFFT factory: Attempting to register factory for plugin cuFFT when one has already been registered\n",
      "2024-02-27 13:46:59.940840: E external/local_xla/xla/stream_executor/cuda/cuda_blas.cc:1515] Unable to register cuBLAS factory: Attempting to register factory for plugin cuBLAS when one has already been registered\n",
      "2024-02-27 13:46:59.946692: I tensorflow/core/platform/cpu_feature_guard.cc:182] This TensorFlow binary is optimized to use available CPU instructions in performance-critical operations.\n",
      "To enable the following instructions: AVX2 AVX_VNNI FMA, in other operations, rebuild TensorFlow with the appropriate compiler flags.\n"
     ]
    }
   ],
   "source": [
    "from tensorflow.keras.preprocessing import image\n",
    "\n",
    "datagen = image.ImageDataGenerator(\n",
    "    rotation_range=30,\n",
    "    # 지정된 각도 범위 내에서 임의로 원본이미지를 회전\n",
    "    width_shift_range=0.2,\n",
    "    height_shift_range=0.2,\n",
    "    zoom_range=0.2,  # 지정된 이동범위 내(%비율)에서 원본이미지를 확대/축소\n",
    "    vertical_flip=True,\n",
    "    horizontal_flip=True,\n",
    "    # 상하 좌우 반전 ( 이미지 증식시 다른 비슷한 이미지가 아닌 다른 이미지로 간주)\n",
    "    fill_mode=\"wrap\",  # 이미지를 변형시키면 틀었을때 빈공간을 주변 pixel로 채운다\n",
    ")"
   ]
  },
  {
   "cell_type": "code",
   "execution_count": 2,
   "metadata": {},
   "outputs": [],
   "source": [
    "def fileProliferation(dir, file):\n",
    "    # 이미지를 가져온다\n",
    "    img = image.load_img(\n",
    "        f\"../dataset_dir/new_image/{dir}/{file}\",\n",
    "        target_size=(50, 50),\n",
    "    )\n",
    "\n",
    "    # 이미지를 array로 변형\n",
    "    img_arr = image.img_to_array(img)\n",
    "    img_arr = img_arr.reshape((1,) + img_arr.shape)\n",
    "\n",
    "    # 도화지 그리기\n",
    "    idx = 0\n",
    "    for batch in datagen.flow(img_arr, batch_size=32):\n",
    "        img2 = image.array_to_img(batch[0])\n",
    "        img2.save(f\"../dataset_dir/new_image/{dir}/{file[:-4]}_{idx}.png\", \"png\")\n",
    "        \n",
    "        if idx == 100:\n",
    "            break\n",
    "        \n",
    "        idx += 1"
   ]
  },
  {
   "cell_type": "code",
   "execution_count": 3,
   "metadata": {},
   "outputs": [
    {
     "name": "stderr",
     "output_type": "stream",
     "text": [
      " 12%|█▏        | 1322/11172 [22:26<3:38:54,  1.33s/it]"
     ]
    }
   ],
   "source": [
    "import os\n",
    "from tqdm import tqdm\n",
    "\n",
    "dirList = os.listdir(\"../dataset_dir/new_image\") # 이미지 레이어 리스트\n",
    "dirList = sorted(dirList) # 가나다 순으로 정렬\n",
    "\n",
    "procs = []\n",
    "\n",
    "for dir in tqdm(dirList):\n",
    "    fileList = os.listdir(f\"../dataset_dir/new_image/{dir}/\") # 디랙토리 파일 리스트\n",
    "\n",
    "    for file in fileList:\n",
    "        fileProliferation(dir, file)"
   ]
  }
 ],
 "metadata": {
  "kernelspec": {
   "display_name": "Python 3",
   "language": "python",
   "name": "python3"
  },
  "language_info": {
   "codemirror_mode": {
    "name": "ipython",
    "version": 3
   },
   "file_extension": ".py",
   "mimetype": "text/x-python",
   "name": "python",
   "nbconvert_exporter": "python",
   "pygments_lexer": "ipython3",
   "version": "3.11.0"
  }
 },
 "nbformat": 4,
 "nbformat_minor": 2
}
